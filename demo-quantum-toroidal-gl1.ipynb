{
 "cells": [
  {
   "cell_type": "code",
   "execution_count": 1,
   "metadata": {},
   "outputs": [],
   "source": [
    "# Some global configuration for this workbook.\n",
    "reset()\n",
    "%display latex\n",
    "Partitions.options.latex=\"list\""
   ]
  },
  {
   "cell_type": "code",
   "execution_count": 2,
   "metadata": {},
   "outputs": [
    {
     "data": {
      "text/html": [
       "<html><script type=\"math/tex; mode=display\">\\newcommand{\\Bold}[1]{\\mathbf{#1}}U_{q}(\\widehat{\\widehat{\\mathfrak{gl}}}_1)</script></html>"
      ],
      "text/plain": [
       "Quantum toroidal algebra (t1=x^2 and t2=y^2)"
      ]
     },
     "execution_count": 2,
     "metadata": {},
     "output_type": "execute_result"
    }
   ],
   "source": [
    "load(\"setup.sage\")\n",
    "load(\"quantum_toroidal.sage\")\n",
    "\n",
    "R.<x,y> = LaurentPolynomialRing(ZZ)\n",
    "\n",
    "# There are square roots involved, so square all variables.\n",
    "x, y = x^2, y^2\n",
    "\n",
    "QTA = QuantumToroidalAlgebra(x, y)\n",
    "QTA"
   ]
  },
  {
   "cell_type": "code",
   "execution_count": 3,
   "metadata": {},
   "outputs": [
    {
     "data": {
      "text/html": [
       "<html><script type=\"math/tex; mode=display\">\\newcommand{\\Bold}[1]{\\mathbf{#1}}\\mathbf{FilteredAlgebrasWithBasis}(\\mathbf{AlgebrasWithBasis}_{\\mathrm{Frac}(\\Bold{Z}[x, y])})</script></html>"
      ],
      "text/plain": [
       "Category of filtered algebras with basis over Fraction Field of Multivariate Polynomial Ring in x, y over Integer Ring"
      ]
     },
     "execution_count": 3,
     "metadata": {},
     "output_type": "execute_result"
    }
   ],
   "source": [
    "QTA.category()"
   ]
  },
  {
   "cell_type": "code",
   "execution_count": 4,
   "metadata": {},
   "outputs": [
    {
     "data": {
      "text/html": [
       "<html><script type=\"math/tex; mode=display\">\\newcommand{\\Bold}[1]{\\mathbf{#1}}\\left(\\frac{-x^{2} y^{2}}{x^{4} y^{4} - x^{4} y^{2} - x^{2} y^{4} + x^{2} + y^{2} - 1}\\right)K_{(2,1)} + \\left(\\frac{x^{2} y^{2}}{x^{4} y^{4} - x^{4} y^{2} - x^{2} y^{4} + x^{2} + y^{2} - 1}\\right)K_{(-2,-1)}</script></html>"
      ],
      "text/plain": [
       "((-x^2*y^2)/(x^4*y^4-x^4*y^2-x^2*y^4+x^2+y^2-1))*K(2,1) + (x^2*y^2/(x^4*y^4-x^4*y^2-x^2*y^4+x^2+y^2-1))*K(-2,-1)"
      ]
     },
     "execution_count": 4,
     "metadata": {},
     "output_type": "execute_result"
    }
   ],
   "source": [
    "def bracket(a, b):\n",
    "    return a*b - b*a\n",
    "\n",
    "# Each slope sub-algebra is a quantum gl1 hat\n",
    "bracket(QTA.e(2,1), QTA.e(-2,-1))"
   ]
  },
  {
   "cell_type": "code",
   "execution_count": 5,
   "metadata": {},
   "outputs": [
    {
     "data": {
      "text/html": [
       "<html><script type=\"math/tex; mode=display\">\\newcommand{\\Bold}[1]{\\mathbf{#1}}-e_{(1,2)}</script></html>"
      ],
      "text/plain": [
       "-e(1,2)"
      ]
     },
     "execution_count": 5,
     "metadata": {},
     "output_type": "execute_result"
    }
   ],
   "source": [
    "# Check the triangle relation\n",
    "bracket(QTA.e(1,1), QTA.e(0,1))"
   ]
  },
  {
   "cell_type": "code",
   "execution_count": 6,
   "metadata": {},
   "outputs": [
    {
     "data": {
      "text/html": [
       "<html><script type=\"math/tex; mode=display\">\\newcommand{\\Bold}[1]{\\mathbf{#1}}\\left(\\frac{-x^{4} y^{4} + x^{2} y^{2} - x^{2} - y^{2}}{x^{2} y^{2}}\\right)e_{(3,2)} + \\left(\\frac{-x^{4} y^{4} + x^{4} y^{2} + x^{2} y^{4} - x^{2} - y^{2} + 1}{x^{2} y^{2}}\\right)e_{(2,1)} e_{(1,1)}</script></html>"
      ],
      "text/plain": [
       "((-x^4*y^4+x^2*y^2-x^2-y^2)/(x^2*y^2))*e(3,2) + ((-x^4*y^4+x^4*y^2+x^2*y^4-x^2-y^2+1)/(x^2*y^2))*e(2,1)*e(1,1)"
      ]
     },
     "execution_count": 6,
     "metadata": {},
     "output_type": "execute_result"
    }
   ],
   "source": [
    "# A non-primitive triangle\n",
    "bracket(QTA.e(2,0), QTA.e(1,2))"
   ]
  },
  {
   "cell_type": "code",
   "execution_count": 7,
   "metadata": {},
   "outputs": [
    {
     "data": {
      "text/html": [
       "<html><script type=\"math/tex; mode=display\">\\newcommand{\\Bold}[1]{\\mathbf{#1}}K_{(-3,-2)} e_{(2,0)} e_{(1,2)}</script></html>"
      ],
      "text/plain": [
       "K(-3,-2)*e(2,0)*e(1,2)"
      ]
     },
     "execution_count": 7,
     "metadata": {},
     "output_type": "execute_result"
    }
   ],
   "source": [
    "# Results are always \"normal ordered\", in the sense that\n",
    "# each monomial is a product of terms e(a,b) ordered by increasing\n",
    "# slope (but all central elements K(a,b) appear first) and then by\n",
    "# decreasing degree within each slope.\n",
    "QTA.e(2,0) * QTA.e(1,2) * QTA.K(-3,-2)"
   ]
  },
  {
   "cell_type": "code",
   "execution_count": 8,
   "metadata": {},
   "outputs": [
    {
     "data": {
      "text/html": [
       "<html><script type=\"math/tex; mode=display\">\\newcommand{\\Bold}[1]{\\mathbf{#1}}\\left(\\frac{x^{4} y^{4} - x^{2} y^{2} + x^{2} + y^{2}}{x^{2} y^{2}}\\right)K_{(-3,-2)} e_{(3,2)} + K_{(-3,-2)} e_{(2,0)} e_{(1,2)} + \\left(\\frac{x^{4} y^{4} - x^{4} y^{2} - x^{2} y^{4} + x^{2} + y^{2} - 1}{x^{2} y^{2}}\\right)K_{(-3,-2)} e_{(2,1)} e_{(1,1)}</script></html>"
      ],
      "text/plain": [
       "((x^4*y^4-x^2*y^2+x^2+y^2)/(x^2*y^2))*K(-3,-2)*e(3,2) + K(-3,-2)*e(2,0)*e(1,2) + ((x^4*y^4-x^4*y^2-x^2*y^4+x^2+y^2-1)/(x^2*y^2))*K(-3,-2)*e(2,1)*e(1,1)"
      ]
     },
     "execution_count": 8,
     "metadata": {},
     "output_type": "execute_result"
    }
   ],
   "source": [
    "QTA.e(1,2) * QTA.e(2,0) * QTA.K(-3,-2)"
   ]
  },
  {
   "cell_type": "code",
   "execution_count": 9,
   "metadata": {},
   "outputs": [
    {
     "data": {
      "text/html": [
       "<html><script type=\"math/tex; mode=display\">\\newcommand{\\Bold}[1]{\\mathbf{#1}}\\verb|Symmetric|\\phantom{\\verb!x!}\\verb|Functions|\\phantom{\\verb!x!}\\verb|over|\\phantom{\\verb!x!}\\verb|Fraction|\\phantom{\\verb!x!}\\verb|Field|\\phantom{\\verb!x!}\\verb|of|\\phantom{\\verb!x!}\\verb|Multivariate|\\phantom{\\verb!x!}\\verb|Polynomial|\\phantom{\\verb!x!}\\verb|Ring|\\phantom{\\verb!x!}\\verb|in|\\phantom{\\verb!x!}\\verb|x,|\\phantom{\\verb!x!}\\verb|y|\\phantom{\\verb!x!}\\verb|over|\\phantom{\\verb!x!}\\verb|Integer|\\phantom{\\verb!x!}\\verb|Ring|</script></html>"
      ],
      "text/plain": [
       "Symmetric Functions over Fraction Field of Multivariate Polynomial Ring in x, y over Integer Ring"
      ]
     },
     "execution_count": 9,
     "metadata": {},
     "output_type": "execute_result"
    }
   ],
   "source": [
    "# Set up a ring of symmetric functions to test the\n",
    "# (level (0,1)) Fock representation of the algebra.\n",
    "Sym = SymmetricFunctions(R.fraction_field())\n",
    "Sym"
   ]
  },
  {
   "cell_type": "code",
   "execution_count": 10,
   "metadata": {},
   "outputs": [
    {
     "data": {
      "text/html": [
       "<html><script type=\"math/tex; mode=display\">\\newcommand{\\Bold}[1]{\\mathbf{#1}}\\verb|Symmetric|\\phantom{\\verb!x!}\\verb|Functions|\\phantom{\\verb!x!}\\verb|over|\\phantom{\\verb!x!}\\verb|Fraction|\\phantom{\\verb!x!}\\verb|Field|\\phantom{\\verb!x!}\\verb|of|\\phantom{\\verb!x!}\\verb|Multivariate|\\phantom{\\verb!x!}\\verb|Polynomial|\\phantom{\\verb!x!}\\verb|Ring|\\phantom{\\verb!x!}\\verb|in|\\phantom{\\verb!x!}\\verb|x,|\\phantom{\\verb!x!}\\verb|y|\\phantom{\\verb!x!}\\verb|over|\\phantom{\\verb!x!}\\verb|Integer|\\phantom{\\verb!x!}\\verb|Ring|\\phantom{\\verb!x!}\\verb|in|\\phantom{\\verb!x!}\\verb|the|\\phantom{\\verb!x!}\\verb|powersum|\\phantom{\\verb!x!}\\verb|basis|</script></html>"
      ],
      "text/plain": [
       "Symmetric Functions over Fraction Field of Multivariate Polynomial Ring in x, y over Integer Ring in the powersum basis"
      ]
     },
     "execution_count": 10,
     "metadata": {},
     "output_type": "execute_result"
    }
   ],
   "source": [
    "p = Sym.powersum()\n",
    "p"
   ]
  },
  {
   "cell_type": "code",
   "execution_count": 11,
   "metadata": {},
   "outputs": [
    {
     "data": {
      "text/html": [
       "<html><script type=\"math/tex; mode=display\">\\newcommand{\\Bold}[1]{\\mathbf{#1}}p_{2,1,1,1}</script></html>"
      ],
      "text/plain": [
       "p[2, 1, 1, 1]"
      ]
     },
     "execution_count": 11,
     "metadata": {},
     "output_type": "execute_result"
    }
   ],
   "source": [
    "p[2,1,1,1]"
   ]
  },
  {
   "cell_type": "code",
   "execution_count": 12,
   "metadata": {},
   "outputs": [
    {
     "data": {
      "text/html": [
       "<html><script type=\"math/tex; mode=display\">\\newcommand{\\Bold}[1]{\\mathbf{#1}}2p_{1}</script></html>"
      ],
      "text/plain": [
       "2*p[1]"
      ]
     },
     "execution_count": 12,
     "metadata": {},
     "output_type": "execute_result"
    }
   ],
   "source": [
    "# Act directly on symmetric functions with algebra elements.\n",
    "QTA.e(1,0) * p[1,1]"
   ]
  },
  {
   "cell_type": "code",
   "execution_count": 13,
   "metadata": {},
   "outputs": [
    {
     "data": {
      "text/html": [
       "<html><script type=\"math/tex; mode=display\">\\newcommand{\\Bold}[1]{\\mathbf{#1}}\\verb|Symmetric|\\phantom{\\verb!x!}\\verb|Functions|\\phantom{\\verb!x!}\\verb|over|\\phantom{\\verb!x!}\\verb|Fraction|\\phantom{\\verb!x!}\\verb|Field|\\phantom{\\verb!x!}\\verb|of|\\phantom{\\verb!x!}\\verb|Multivariate|\\phantom{\\verb!x!}\\verb|Polynomial|\\phantom{\\verb!x!}\\verb|Ring|\\phantom{\\verb!x!}\\verb|in|\\phantom{\\verb!x!}\\verb|x,|\\phantom{\\verb!x!}\\verb|y|\\phantom{\\verb!x!}\\verb|over|\\phantom{\\verb!x!}\\verb|Integer|\\phantom{\\verb!x!}\\verb|Ring|\\phantom{\\verb!x!}\\verb|in|\\phantom{\\verb!x!}\\verb|the|\\phantom{\\verb!x!}\\verb|Macdonald|\\phantom{\\verb!x!}\\verb|Ht|\\phantom{\\verb!x!}\\verb|with|\\phantom{\\verb!x!}\\verb|q=x^2|\\phantom{\\verb!x!}\\verb|and|\\phantom{\\verb!x!}\\verb|t=y^2|\\phantom{\\verb!x!}\\verb|basis|</script></html>"
      ],
      "text/plain": [
       "Symmetric Functions over Fraction Field of Multivariate Polynomial Ring in x, y over Integer Ring in the Macdonald Ht with q=x^2 and t=y^2 basis"
      ]
     },
     "execution_count": 13,
     "metadata": {},
     "output_type": "execute_result"
    }
   ],
   "source": [
    "# Use the plethystically-modified Macdonald basis (Haiman)\n",
    "# corresponding to fixed points in Hilb(C^2).\n",
    "Mcd = Sym.macdonald(q=x, t=y)\n",
    "Ht = Mcd.Ht()\n",
    "Ht"
   ]
  },
  {
   "cell_type": "code",
   "execution_count": 14,
   "metadata": {
    "scrolled": true
   },
   "outputs": [
    {
     "data": {
      "text/html": [
       "<html><script type=\"math/tex; mode=display\">\\newcommand{\\Bold}[1]{\\mathbf{#1}}\\left(\\frac{-x^{4} y^{2} - x^{2} y^{4} + x^{4} + x^{2} y^{2} + y^{4}}{x^{2} y^{2} - x^{2} - y^{2} + 1}\\right)McdHt_{2,1}</script></html>"
      ],
      "text/plain": [
       "((-x^4*y^2-x^2*y^4+x^4+x^2*y^2+y^4)/(x^2*y^2-x^2-y^2+1))*McdHt[2, 1]"
      ]
     },
     "execution_count": 14,
     "metadata": {},
     "output_type": "execute_result"
    }
   ],
   "source": [
    "QTA.e(0,1) * Ht[2,1]"
   ]
  },
  {
   "cell_type": "code",
   "execution_count": 15,
   "metadata": {
    "scrolled": false
   },
   "outputs": [
    {
     "data": {
      "text/html": [
       "<html><script type=\"math/tex; mode=display\">\\newcommand{\\Bold}[1]{\\mathbf{#1}}\\left(\\begin{array}{rrr}\n",
       "-\\frac{{\\left(t_{1} t_{2} z^{3} - 1\\right)} {\\left(t_{1} t_{2} - z\\right)} {\\left(z + 1\\right)} {\\left(z - 1\\right)}}{{\\left(t_{1}^{2} t_{2}^{2} z^{2} + t_{1} t_{2} z + 1\\right)} {\\left(t_{1} t_{2} z + 1\\right)} {\\left(t_{1} t_{2} z - 1\\right)}^{3} t_{1} t_{2}} & -\\frac{{\\left(t_{1} t_{2} - z\\right)} {\\left(t_{1} t_{2} + 1\\right)} {\\left(t_{1} t_{2} - 1\\right)} {\\left(z + 1\\right)} {\\left(z - 1\\right)} z}{{\\left(t_{1}^{2} t_{2}^{2} z^{2} + t_{1} t_{2} z + 1\\right)} {\\left(t_{1} t_{2} z - 1\\right)}^{3} t_{1} t_{2}} & -\\frac{{\\left(t_{1}^{3} t_{2}^{3} z - 1\\right)} {\\left(t_{1} t_{2} - z\\right)} {\\left(t_{1} t_{2} + 1\\right)} {\\left(t_{1} t_{2} - 1\\right)} z^{2}}{{\\left(t_{1}^{2} t_{2}^{2} z^{2} + t_{1} t_{2} z + 1\\right)} {\\left(t_{1} t_{2} z + 1\\right)} {\\left(t_{1} t_{2} z - 1\\right)}^{3} t_{1} t_{2}} \\\\\n",
       "-\\frac{{\\left(t_{1} t_{2} - z\\right)} {\\left(t_{1} t_{2} + 1\\right)} {\\left(t_{1} t_{2} - 1\\right)} {\\left(z + 1\\right)} {\\left(z - 1\\right)} z}{{\\left(t_{1}^{2} t_{2}^{2} z^{2} + t_{1} t_{2} z + 1\\right)} {\\left(t_{1} t_{2} z - 1\\right)}^{3} t_{1}^{3} t_{2}^{3}} & -\\frac{{\\left(t_{1}^{4} t_{2}^{4} z^{2} - t_{1}^{3} t_{2}^{3} z^{3} + t_{1}^{2} t_{2}^{2} z^{4} - 2 \\, t_{1}^{2} t_{2}^{2} z^{2} + t_{1}^{2} t_{2}^{2} - t_{1} t_{2} z + z^{2}\\right)} {\\left(t_{1} t_{2} - z\\right)}}{{\\left(t_{1}^{2} t_{2}^{2} z^{2} + t_{1} t_{2} z + 1\\right)} {\\left(t_{1} t_{2} z - 1\\right)}^{3} t_{1}^{3} t_{2}^{3}} & -\\frac{{\\left(t_{1} t_{2} - z\\right)} {\\left(t_{1} t_{2} + 1\\right)} {\\left(t_{1} t_{2} - 1\\right)} {\\left(z + 1\\right)} {\\left(z - 1\\right)} z}{{\\left(t_{1}^{2} t_{2}^{2} z^{2} + t_{1} t_{2} z + 1\\right)} {\\left(t_{1} t_{2} z - 1\\right)}^{3} t_{1} t_{2}} \\\\\n",
       "-\\frac{{\\left(t_{1}^{3} t_{2}^{3} z - 1\\right)} {\\left(t_{1} t_{2} - z\\right)} {\\left(t_{1} t_{2} + 1\\right)} {\\left(t_{1} t_{2} - 1\\right)} z^{2}}{{\\left(t_{1}^{2} t_{2}^{2} z^{2} + t_{1} t_{2} z + 1\\right)} {\\left(t_{1} t_{2} z + 1\\right)} {\\left(t_{1} t_{2} z - 1\\right)}^{3} t_{1}^{5} t_{2}^{5}} & -\\frac{{\\left(t_{1} t_{2} - z\\right)} {\\left(t_{1} t_{2} + 1\\right)} {\\left(t_{1} t_{2} - 1\\right)} {\\left(z + 1\\right)} {\\left(z - 1\\right)} z}{{\\left(t_{1}^{2} t_{2}^{2} z^{2} + t_{1} t_{2} z + 1\\right)} {\\left(t_{1} t_{2} z - 1\\right)}^{3} t_{1}^{3} t_{2}^{3}} & -\\frac{{\\left(t_{1} t_{2} z^{3} - 1\\right)} {\\left(t_{1} t_{2} - z\\right)} {\\left(z + 1\\right)} {\\left(z - 1\\right)}}{{\\left(t_{1}^{2} t_{2}^{2} z^{2} + t_{1} t_{2} z + 1\\right)} {\\left(t_{1} t_{2} z + 1\\right)} {\\left(t_{1} t_{2} z - 1\\right)}^{3} t_{1} t_{2}}\n",
       "\\end{array}\\right)</script></html>"
      ],
      "text/plain": [
       "[                                                    -(t1*t2*z^3 - 1)*(t1*t2 - z)*(z + 1)*(z - 1)/((t1^2*t2^2*z^2 + t1*t2*z + 1)*(t1*t2*z + 1)*(t1*t2*z - 1)^3*t1*t2)                                                         -(t1*t2 - z)*(t1*t2 + 1)*(t1*t2 - 1)*(z + 1)*(z - 1)*z/((t1^2*t2^2*z^2 + t1*t2*z + 1)*(t1*t2*z - 1)^3*t1*t2)                                       -(t1^3*t2^3*z - 1)*(t1*t2 - z)*(t1*t2 + 1)*(t1*t2 - 1)*z^2/((t1^2*t2^2*z^2 + t1*t2*z + 1)*(t1*t2*z + 1)*(t1*t2*z - 1)^3*t1*t2)]\n",
       "[                                                    -(t1*t2 - z)*(t1*t2 + 1)*(t1*t2 - 1)*(z + 1)*(z - 1)*z/((t1^2*t2^2*z^2 + t1*t2*z + 1)*(t1*t2*z - 1)^3*t1^3*t2^3) -(t1^4*t2^4*z^2 - t1^3*t2^3*z^3 + t1^2*t2^2*z^4 - 2*t1^2*t2^2*z^2 + t1^2*t2^2 - t1*t2*z + z^2)*(t1*t2 - z)/((t1^2*t2^2*z^2 + t1*t2*z + 1)*(t1*t2*z - 1)^3*t1^3*t2^3)                                                         -(t1*t2 - z)*(t1*t2 + 1)*(t1*t2 - 1)*(z + 1)*(z - 1)*z/((t1^2*t2^2*z^2 + t1*t2*z + 1)*(t1*t2*z - 1)^3*t1*t2)]\n",
       "[                                  -(t1^3*t2^3*z - 1)*(t1*t2 - z)*(t1*t2 + 1)*(t1*t2 - 1)*z^2/((t1^2*t2^2*z^2 + t1*t2*z + 1)*(t1*t2*z + 1)*(t1*t2*z - 1)^3*t1^5*t2^5)                                                     -(t1*t2 - z)*(t1*t2 + 1)*(t1*t2 - 1)*(z + 1)*(z - 1)*z/((t1^2*t2^2*z^2 + t1*t2*z + 1)*(t1*t2*z - 1)^3*t1^3*t2^3)                                                     -(t1*t2*z^3 - 1)*(t1*t2 - z)*(z + 1)*(z - 1)/((t1^2*t2^2*z^2 + t1*t2*z + 1)*(t1*t2*z + 1)*(t1*t2*z - 1)^3*t1*t2)]"
      ]
     },
     "execution_count": 15,
     "metadata": {},
     "output_type": "execute_result"
    }
   ],
   "source": [
    "# Example: compute wall operators for Hilb(C^2, n)\n",
    "\n",
    "load(\"instantons.sage\")\n",
    "R.<t1,t2,z,q> = LaurentPolynomialRing(ZZ)\n",
    "t1, t2 = t1^2, t2^2\n",
    "M = Instantons(1, t1, t2)\n",
    "pretty( M.qde_wall(3, 0, q, z, M.stab(0)) )"
   ]
  },
  {
   "cell_type": "code",
   "execution_count": 16,
   "metadata": {},
   "outputs": [
    {
     "data": {
      "text/html": [
       "<html><script type=\"math/tex; mode=display\">\\newcommand{\\Bold}[1]{\\mathbf{#1}}\\left(\\begin{array}{rrr}\n",
       "\\frac{t_{1}^{6} t_{2}^{6} z^{3} - q t_{1}^{3} t_{2}^{3} - t_{1}^{2} t_{2}^{2} z^{3} + z^{3}}{{\\left(t_{1}^{3} t_{2}^{3} z^{3} - q\\right)} t_{1}^{3} t_{2}^{3}} & -\\frac{{\\left(t_{1} t_{2} + 1\\right)} {\\left(t_{1} t_{2} - 1\\right)} z^{3}}{{\\left(t_{1}^{3} t_{2}^{3} z^{3} - q\\right)} t_{2}^{2}} & -\\frac{{\\left(t_{1} t_{2} + 1\\right)} {\\left(t_{1} t_{2} - 1\\right)} t_{1}^{3} z^{3}}{{\\left(t_{1}^{3} t_{2}^{3} z^{3} - q\\right)} t_{2}} \\\\\n",
       "-\\frac{{\\left(t_{1} t_{2} + 1\\right)} {\\left(t_{1} t_{2} - 1\\right)} z^{3}}{{\\left(t_{1}^{3} t_{2}^{3} z^{3} - q\\right)} t_{1}^{4} t_{2}^{2}} & \\frac{t_{1}^{4} t_{2}^{4} z^{3} - t_{1}^{2} t_{2}^{2} z^{3} - q t_{1} t_{2} + z^{3}}{{\\left(t_{1}^{3} t_{2}^{3} z^{3} - q\\right)} t_{1} t_{2}} & -\\frac{{\\left(t_{1} t_{2} + 1\\right)} {\\left(t_{1} t_{2} - 1\\right)} t_{1}^{2} z^{3}}{t_{1}^{3} t_{2}^{3} z^{3} - q} \\\\\n",
       "-\\frac{{\\left(t_{1} t_{2} + 1\\right)} {\\left(t_{1} t_{2} - 1\\right)} z^{3}}{{\\left(t_{1}^{3} t_{2}^{3} z^{3} - q\\right)} t_{1}^{5} t_{2}} & -\\frac{{\\left(t_{1} t_{2} + 1\\right)} {\\left(t_{1} t_{2} - 1\\right)} z^{3}}{{\\left(t_{1}^{3} t_{2}^{3} z^{3} - q\\right)} t_{1}^{2}} & \\frac{t_{1} t_{2} z^{3} - q}{t_{1}^{3} t_{2}^{3} z^{3} - q}\n",
       "\\end{array}\\right)</script></html>"
      ],
      "text/plain": [
       "[(t1^6*t2^6*z^3 - q*t1^3*t2^3 - t1^2*t2^2*z^3 + z^3)/((t1^3*t2^3*z^3 - q)*t1^3*t2^3)                             -(t1*t2 + 1)*(t1*t2 - 1)*z^3/((t1^3*t2^3*z^3 - q)*t2^2)                          -(t1*t2 + 1)*(t1*t2 - 1)*t1^3*z^3/((t1^3*t2^3*z^3 - q)*t2)]\n",
       "[                       -(t1*t2 + 1)*(t1*t2 - 1)*z^3/((t1^3*t2^3*z^3 - q)*t1^4*t2^2)         (t1^4*t2^4*z^3 - t1^2*t2^2*z^3 - q*t1*t2 + z^3)/((t1^3*t2^3*z^3 - q)*t1*t2)                               -(t1*t2 + 1)*(t1*t2 - 1)*t1^2*z^3/(t1^3*t2^3*z^3 - q)]\n",
       "[                         -(t1*t2 + 1)*(t1*t2 - 1)*z^3/((t1^3*t2^3*z^3 - q)*t1^5*t2)                             -(t1*t2 + 1)*(t1*t2 - 1)*z^3/((t1^3*t2^3*z^3 - q)*t1^2)                                                 (t1*t2*z^3 - q)/(t1^3*t2^3*z^3 - q)]"
      ]
     },
     "execution_count": 16,
     "metadata": {},
     "output_type": "execute_result"
    }
   ],
   "source": [
    "pretty( M.qde_wall(3, 1/3, q, z, M.stab(1/3)) )"
   ]
  },
  {
   "cell_type": "code",
   "execution_count": 17,
   "metadata": {},
   "outputs": [
    {
     "data": {
      "text/html": [
       "<html><script type=\"math/tex; mode=display\">\\newcommand{\\Bold}[1]{\\mathbf{#1}}\\left(\\begin{array}{rrr}\n",
       "\\frac{t_{1}^{4} t_{2}^{4} z^{2} - t_{1}^{2} t_{2}^{2} z^{2} - q t_{1}^{2} t_{2}^{2} + z^{2}}{{\\left(t_{1}^{2} t_{2}^{2} z^{2} - q\\right)} t_{1}^{2} t_{2}^{2}} & 0 & \\frac{{\\left(t_{1} t_{2} + 1\\right)} {\\left(t_{1} t_{2} - 1\\right)} t_{1}^{4} z^{2}}{{\\left(t_{1}^{2} t_{2}^{2} z^{2} - q\\right)} t_{2}^{2}} \\\\\n",
       "0 & 1 & 0 \\\\\n",
       "\\frac{{\\left(t_{1} t_{2} + 1\\right)} {\\left(t_{1} t_{2} - 1\\right)} z^{2}}{{\\left(t_{1}^{2} t_{2}^{2} z^{2} - q\\right)} t_{1}^{6}} & 0 & \\frac{z^{2} - q}{t_{1}^{2} t_{2}^{2} z^{2} - q}\n",
       "\\end{array}\\right)</script></html>"
      ],
      "text/plain": [
       "[(t1^4*t2^4*z^2 - t1^2*t2^2*z^2 - q*t1^2*t2^2 + z^2)/((t1^2*t2^2*z^2 - q)*t1^2*t2^2)                                                                                   0                         (t1*t2 + 1)*(t1*t2 - 1)*t1^4*z^2/((t1^2*t2^2*z^2 - q)*t2^2)]\n",
       "[                                                                                  0                                                                                   1                                                                                   0]\n",
       "[                             (t1*t2 + 1)*(t1*t2 - 1)*z^2/((t1^2*t2^2*z^2 - q)*t1^6)                                                                                   0                                                       (z^2 - q)/(t1^2*t2^2*z^2 - q)]"
      ]
     },
     "execution_count": 17,
     "metadata": {},
     "output_type": "execute_result"
    }
   ],
   "source": [
    "pretty( M.qde_wall(3, 1/2, q, z, M.stab(1/2)) )"
   ]
  }
 ],
 "metadata": {
  "kernelspec": {
   "display_name": "SageMath 9.0",
   "language": "sage",
   "name": "sagemath"
  },
  "language_info": {
   "codemirror_mode": {
    "name": "ipython",
    "version": 3
   },
   "file_extension": ".py",
   "mimetype": "text/x-python",
   "name": "python",
   "nbconvert_exporter": "python",
   "pygments_lexer": "ipython3",
   "version": "3.7.3"
  }
 },
 "nbformat": 4,
 "nbformat_minor": 2
}
