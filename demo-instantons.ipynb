{
 "cells": [
  {
   "cell_type": "code",
   "execution_count": 81,
   "metadata": {},
   "outputs": [],
   "source": [
    "reset()\n",
    "%display latex\n",
    "Partitions.options.latex=\"list\""
   ]
  },
  {
   "cell_type": "markdown",
   "metadata": {},
   "source": [
    "# Demo: instanton moduli space"
   ]
  },
  {
   "cell_type": "markdown",
   "metadata": {},
   "source": [
    "### General set-up"
   ]
  },
  {
   "cell_type": "markdown",
   "metadata": {},
   "source": [
    "The moduli space $\\mathcal{M}_r(\\mathbb{C}^2)$ of rank-$r$ instantons on $\\mathbb{C}^2$ is the Nakajima quiver variety associated to the Jordan quiver with framing dimension $r$. Hence it carries the natural action of:\n",
    "\n",
    "- a torus $\\mathsf{T} = (\\mathbb{C}^\\times)^2$ scaling $\\mathbb{C}^2$, with weights denoted $x$ and $y$;\n",
    "- a framing torus $\\mathsf{T}_{\\text{framing}} = (\\mathbb{C}^\\times)^r \\subset \\mathrm{GL}(r)$ scaling the framing, with weights denoted $u_1, \\ldots, u_r$.\n",
    "\n",
    "For concreteness we only do examples in ranks $r=1$ and $r=2$."
   ]
  },
  {
   "cell_type": "markdown",
   "metadata": {},
   "source": [
    "It is recommended that all equivariant variables live in the same Laurent polynomial ring. It will be necessary later to pass to its fraction field for the associated ring of symmetric functions."
   ]
  },
  {
   "cell_type": "code",
   "execution_count": 82,
   "metadata": {},
   "outputs": [],
   "source": [
    "load(\"setup.sage\")\n",
    "load(\"instantons.sage\")\n",
    "\n",
    "R.<x,y,u1,u2> = LaurentPolynomialRing(ZZ)"
   ]
  },
  {
   "cell_type": "markdown",
   "metadata": {},
   "source": [
    "It is useful to have the dualizing involution which inverts all variables."
   ]
  },
  {
   "cell_type": "code",
   "execution_count": 83,
   "metadata": {},
   "outputs": [],
   "source": [
    "inv = Hom(R,R)([1/x, 1/y, 1/u1, 1/u2])"
   ]
  },
  {
   "cell_type": "markdown",
   "metadata": {},
   "source": [
    "There are square roots of $x$ and $y$ involved in what follows, so square them to avoid fractional exponents."
   ]
  },
  {
   "cell_type": "code",
   "execution_count": 84,
   "metadata": {},
   "outputs": [],
   "source": [
    "x, y = x^2, y^2"
   ]
  },
  {
   "cell_type": "markdown",
   "metadata": {},
   "source": [
    "### Geometry of $\\mathcal{M}_r(\\mathbb{C}^2)$"
   ]
  },
  {
   "cell_type": "markdown",
   "metadata": {},
   "source": [
    "#### Creating the moduli space\n",
    "\n",
    "The command `Instantons(r, x, y, u)` creates the moduli space $\\mathcal{M}_r(\\mathbb{C}^2)$ with equivariant weights $x$, $y$ and a list/tuple of equivariant weights $u = (u_1, \\ldots, u_r)$. If $r = 1$ then $u$ may be omitted, in which case the code takes the (single) framing variable to be $1$."
   ]
  },
  {
   "cell_type": "code",
   "execution_count": 85,
   "metadata": {},
   "outputs": [
    {
     "data": {
      "text/html": [
       "<html><script type=\"math/tex; mode=display\">\\newcommand{\\Bold}[1]{\\mathbf{#1}}\\verb|Rank|\\phantom{\\verb!x!}\\verb|1|\\phantom{\\verb!x!}\\verb|instanton|\\phantom{\\verb!x!}\\verb|moduli|\\phantom{\\verb!x!}\\verb|space|\\phantom{\\verb!x!}\\verb|in|\\phantom{\\verb!x!}\\verb|x=x^2,|\\phantom{\\verb!x!}\\verb|y=y^2,|\\phantom{\\verb!x!}\\verb|u=[1]|</script></html>"
      ],
      "text/plain": [
       "Rank 1 instanton moduli space in x=x^2, y=y^2, u=[1]"
      ]
     },
     "execution_count": 85,
     "metadata": {},
     "output_type": "execute_result"
    }
   ],
   "source": [
    "M1 = Instantons(1, x, y)\n",
    "M1"
   ]
  },
  {
   "cell_type": "code",
   "execution_count": 86,
   "metadata": {},
   "outputs": [
    {
     "data": {
      "text/html": [
       "<html><script type=\"math/tex; mode=display\">\\newcommand{\\Bold}[1]{\\mathbf{#1}}\\verb|Rank|\\phantom{\\verb!x!}\\verb|2|\\phantom{\\verb!x!}\\verb|instanton|\\phantom{\\verb!x!}\\verb|moduli|\\phantom{\\verb!x!}\\verb|space|\\phantom{\\verb!x!}\\verb|in|\\phantom{\\verb!x!}\\verb|x=x^2,|\\phantom{\\verb!x!}\\verb|y=y^2,|\\phantom{\\verb!x!}\\verb|u=(u1,|\\phantom{\\verb!x!}\\verb|u2)|</script></html>"
      ],
      "text/plain": [
       "Rank 2 instanton moduli space in x=x^2, y=y^2, u=(u1, u2)"
      ]
     },
     "execution_count": 86,
     "metadata": {},
     "output_type": "execute_result"
    }
   ],
   "source": [
    "M2 = Instantons(2, x, y, (u1,u2))\n",
    "M2"
   ]
  },
  {
   "cell_type": "markdown",
   "metadata": {},
   "source": [
    "#### Fixed points\n",
    "\n",
    "The instanton moduli knows that its $\\mathsf{T} \\times \\mathsf{T}_{\\text{framing}}$-fixed points are indexed by $r$-tuples of integer partitions. The total number of boxes is the *instanton number*. Fixed points are partially ordered by dominance, meaning that $p \\ge q$ iff $p$ dominates $q$ as an $r$-tuple of partitions.\n",
    "\n",
    "The command `M.fixed_points(n)` lists all fixed points of instanton number $n$ in ascending dominance order. Each fixed point is a `PartitionTuple` unless rank is $r=1$, in which case it is a `Partition`."
   ]
  },
  {
   "cell_type": "code",
   "execution_count": 87,
   "metadata": {},
   "outputs": [
    {
     "data": {
      "text/html": [
       "<html><script type=\"math/tex; mode=display\">\\newcommand{\\Bold}[1]{\\mathbf{#1}}\\left[[1, 1, 1, 1], [2, 1, 1], [2, 2], [3, 1], [4]\\right]</script></html>"
      ],
      "text/plain": [
       "[[1, 1, 1, 1], [2, 1, 1], [2, 2], [3, 1], [4]]"
      ]
     },
     "execution_count": 87,
     "metadata": {},
     "output_type": "execute_result"
    }
   ],
   "source": [
    "fps1 = M1.fixed_points(4)\n",
    "fps1"
   ]
  },
  {
   "cell_type": "code",
   "execution_count": 88,
   "metadata": {},
   "outputs": [
    {
     "data": {
      "text/html": [
       "<html><script type=\"math/tex; mode=display\">\\newcommand{\\Bold}[1]{\\mathbf{#1}}\\verb|Partitions|\\phantom{\\verb!x!}\\verb|of|\\phantom{\\verb!x!}\\verb|the|\\phantom{\\verb!x!}\\verb|integer|\\phantom{\\verb!x!}\\verb|4|</script></html>"
      ],
      "text/plain": [
       "Partitions of the integer 4"
      ]
     },
     "execution_count": 88,
     "metadata": {},
     "output_type": "execute_result"
    }
   ],
   "source": [
    "fps1[2].parent()"
   ]
  },
  {
   "cell_type": "code",
   "execution_count": 89,
   "metadata": {},
   "outputs": [
    {
     "data": {
      "text/html": [
       "<html><script type=\"math/tex; mode=display\">\\newcommand{\\Bold}[1]{\\mathbf{#1}}\\left[[[], [1, 1, 1]], [[], [2, 1]], [[1], [1, 1]], [[], [3]], [[1], [2]], [[1, 1], [1]], [[1, 1, 1], []], [[2], [1]], [[2, 1], []], [[3], []]\\right]</script></html>"
      ],
      "text/plain": [
       "[([], [1, 1, 1]),\n",
       " ([], [2, 1]),\n",
       " ([1], [1, 1]),\n",
       " ([], [3]),\n",
       " ([1], [2]),\n",
       " ([1, 1], [1]),\n",
       " ([1, 1, 1], []),\n",
       " ([2], [1]),\n",
       " ([2, 1], []),\n",
       " ([3], [])]"
      ]
     },
     "execution_count": 89,
     "metadata": {},
     "output_type": "execute_result"
    }
   ],
   "source": [
    "fps2 = M2.fixed_points(3)\n",
    "fps2"
   ]
  },
  {
   "cell_type": "code",
   "execution_count": 90,
   "metadata": {},
   "outputs": [
    {
     "data": {
      "text/html": [
       "<html><script type=\"math/tex; mode=display\">\\newcommand{\\Bold}[1]{\\mathbf{#1}}\\verb|Partition|\\phantom{\\verb!x!}\\verb|tuples|\\phantom{\\verb!x!}\\verb|of|\\phantom{\\verb!x!}\\verb|level|\\phantom{\\verb!x!}\\verb|2|\\phantom{\\verb!x!}\\verb|and|\\phantom{\\verb!x!}\\verb|size|\\phantom{\\verb!x!}\\verb|3|</script></html>"
      ],
      "text/plain": [
       "Partition tuples of level 2 and size 3"
      ]
     },
     "execution_count": 90,
     "metadata": {},
     "output_type": "execute_result"
    }
   ],
   "source": [
    "fps2[1].parent()"
   ]
  },
  {
   "cell_type": "markdown",
   "metadata": {},
   "source": [
    "#### Tangent space at fixed points\n",
    "\n",
    "The tangent space at a fixed point $p = (\\lambda_1, \\ldots, \\lambda_r)$, where $\\lambda_k$ are integer partitions, is computed by the formula\n",
    "\n",
    "$$ T_p\\mathcal{M}_r(\\mathbb{C}^2) = \\sum_{i,j=1}^r \\frac{u_j}{u_i} \\left(\\chi_j + \\frac{\\bar\\chi_i}{xy} - \\frac{(1-x)(1-y) \\chi_j \\bar\\chi_i}{xy}\\right) $$\n",
    "\n",
    "where $\\chi_k = \\sum_{(i,j) \\in \\lambda_k} x^i y^j$ is the character of $\\lambda_k$, and the bar on $\\bar\\chi$ denotes the dualizing involution $(x,y) \\mapsto (x^{-1}, y^{-1})$."
   ]
  },
  {
   "cell_type": "code",
   "execution_count": 91,
   "metadata": {},
   "outputs": [
    {
     "data": {
      "text/html": [
       "<html><script type=\"math/tex; mode=display\">\\newcommand{\\Bold}[1]{\\mathbf{#1}}y^{-2} + x^{-2}</script></html>"
      ],
      "text/plain": [
       "y^-2 + x^-2"
      ]
     },
     "execution_count": 91,
     "metadata": {},
     "output_type": "execute_result"
    }
   ],
   "source": [
    "p = Partition([1])\n",
    "M1.tangent_space(p)"
   ]
  },
  {
   "cell_type": "code",
   "execution_count": 92,
   "metadata": {
    "scrolled": false
   },
   "outputs": [
    {
     "data": {
      "text/html": [
       "<html><script type=\"math/tex; mode=display\">\\newcommand{\\Bold}[1]{\\mathbf{#1}}x^{2} u_{1}^{-1} u_{2} + y^{2} u_{1}^{-1} u_{2} + u_{1}^{-1} u_{2} + x^{2} y^{-4} + 2 y^{-2} + 2 x^{-2} + x^{-4} y^{2} + x^{-2} y^{-2} u_{1} u_{2}^{-1} + x^{-2} y^{-4} u_{1} u_{2}^{-1} + x^{-4} y^{-2} u_{1} u_{2}^{-1}</script></html>"
      ],
      "text/plain": [
       "x^2*u1^-1*u2 + y^2*u1^-1*u2 + u1^-1*u2 + x^2*y^-4 + 2*y^-2 + 2*x^-2 + x^-4*y^2 + x^-2*y^-2*u1*u2^-1 + x^-2*y^-4*u1*u2^-1 + x^-4*y^-2*u1*u2^-1"
      ]
     },
     "execution_count": 92,
     "metadata": {},
     "output_type": "execute_result"
    }
   ],
   "source": [
    "p = PartitionTuple([[], [2,1]])\n",
    "Tp = M2.tangent_space(p)\n",
    "Tp"
   ]
  },
  {
   "cell_type": "markdown",
   "metadata": {},
   "source": [
    "The bilinear function in the brackets above can be accessed as `M._tangent_space_weights(lamb, mu)`."
   ]
  },
  {
   "cell_type": "markdown",
   "metadata": {},
   "source": [
    "#### Polarization \n",
    "\n",
    "Of course, there are many possible choices of polarization. The implemented one is given by\n",
    "\n",
    "$$ T^{1/2}_p \\mathcal{M}_r(\\mathbb{C}^2) = \\sum_{i,j=1}^r \\frac{u_j}{u_i} \\left(\\chi_j + \\frac{(1-x) \\chi_j \\bar\\chi_i}{x}\\right) $$"
   ]
  },
  {
   "cell_type": "code",
   "execution_count": 93,
   "metadata": {},
   "outputs": [
    {
     "data": {
      "text/html": [
       "<html><script type=\"math/tex; mode=display\">\\newcommand{\\Bold}[1]{\\mathbf{#1}}x^{2} u_{1}^{-1} u_{2} + y^{2} u_{1}^{-1} u_{2} - x^{2} y^{-2} - 1 + u_{1}^{-1} u_{2} + 2 x^{-2} + x^{-4} y^{2} + x^{-2} y^{-2} + x^{-4}</script></html>"
      ],
      "text/plain": [
       "x^2*u1^-1*u2 + y^2*u1^-1*u2 - x^2*y^-2 - 1 + u1^-1*u2 + 2*x^-2 + x^-4*y^2 + x^-2*y^-2 + x^-4"
      ]
     },
     "execution_count": 93,
     "metadata": {},
     "output_type": "execute_result"
    }
   ],
   "source": [
    "Tphalf = M2.polarization(p)\n",
    "Tphalf"
   ]
  },
  {
   "cell_type": "code",
   "execution_count": 94,
   "metadata": {},
   "outputs": [
    {
     "data": {
      "text/html": [
       "<html><script type=\"math/tex; mode=display\">\\newcommand{\\Bold}[1]{\\mathbf{#1}}\\mathrm{True}</script></html>"
      ],
      "text/plain": [
       "True"
      ]
     },
     "execution_count": 94,
     "metadata": {},
     "output_type": "execute_result"
    }
   ],
   "source": [
    "Tphalf + inv(Tphalf)/(x*y) == Tp"
   ]
  },
  {
   "cell_type": "markdown",
   "metadata": {},
   "source": [
    "The bilinear function in the brackets above can be accessed as `M._polarization(lamb, mu)`."
   ]
  },
  {
   "cell_type": "markdown",
   "metadata": {},
   "source": [
    "#### Tautological bundles\n",
    "\n",
    "The command `M.tautological_bundle(p)` returns the weight of the tautological bundle $\\mathcal{V}$ at $p = (\\lambda_1, \\ldots, \\lambda_r)$, which is nothing more than the character $\\chi_p = \\sum_{i=1}^r u_i \\chi_i$."
   ]
  },
  {
   "cell_type": "code",
   "execution_count": 95,
   "metadata": {},
   "outputs": [
    {
     "data": {
      "text/html": [
       "<html><script type=\"math/tex; mode=display\">\\newcommand{\\Bold}[1]{\\mathbf{#1}}y^{6} + x^{4} + x^{2} y^{2} + y^{4} + x^{2} + y^{2} + 1</script></html>"
      ],
      "text/plain": [
       "y^6 + x^4 + x^2*y^2 + y^4 + x^2 + y^2 + 1"
      ]
     },
     "execution_count": 95,
     "metadata": {},
     "output_type": "execute_result"
    }
   ],
   "source": [
    "M1.tautological_bundle(Partition([4,2,1]))"
   ]
  },
  {
   "cell_type": "code",
   "execution_count": 96,
   "metadata": {},
   "outputs": [
    {
     "data": {
      "text/html": [
       "<html><script type=\"math/tex; mode=display\">\\newcommand{\\Bold}[1]{\\mathbf{#1}}y^{4} u_{1} + y^{2} u_{1} + x^{2} u_{2} + u_{1} + u_{2}</script></html>"
      ],
      "text/plain": [
       "y^4*u1 + y^2*u1 + x^2*u2 + u1 + u2"
      ]
     },
     "execution_count": 96,
     "metadata": {},
     "output_type": "execute_result"
    }
   ],
   "source": [
    "M2.tautological_bundle(PartitionTuple([[3], [1,1]]))"
   ]
  },
  {
   "cell_type": "markdown",
   "metadata": {},
   "source": [
    "The command `M.O(d, n)` returns the operator of (classical) multiplication by the tautological line bundle $\\mathcal{O}(d) = \\mathrm{det}(\\mathcal{V})^{\\otimes d}$ on the component of $\\mathcal{M}$ of instanton number $n$, in the basis of fixed points where it is diagonal. \n",
    "\n",
    "In other words, the diagonal entry at $p = (\\lambda_1, \\ldots, \\lambda_r)$ is $\\prod_{w \\in \\chi_p} w$ where $w$ ranges over all monomials in $\\chi_p$."
   ]
  },
  {
   "cell_type": "code",
   "execution_count": 97,
   "metadata": {},
   "outputs": [
    {
     "data": {
      "text/html": [
       "<html><script type=\"math/tex; mode=display\">\\newcommand{\\Bold}[1]{\\mathbf{#1}}\\left(\\begin{array}{rrr}\n",
       "x^{6} & 0 & 0 \\\\\n",
       "0 & x^{2} y^{2} & 0 \\\\\n",
       "0 & 0 & y^{6}\n",
       "\\end{array}\\right)</script></html>"
      ],
      "text/plain": [
       "[    x^6       0       0]\n",
       "[      0 x^2*y^2       0]\n",
       "[      0       0     y^6]"
      ]
     },
     "execution_count": 97,
     "metadata": {},
     "output_type": "execute_result"
    }
   ],
   "source": [
    "M1.O(1, 3)"
   ]
  },
  {
   "cell_type": "code",
   "execution_count": 98,
   "metadata": {},
   "outputs": [
    {
     "data": {
      "text/html": [
       "<html><script type=\"math/tex; mode=display\">\\newcommand{\\Bold}[1]{\\mathbf{#1}}\\left(\\begin{array}{rrrrr}\n",
       "x^{4} u_{2}^{4} & 0 & 0 & 0 & 0 \\\\\n",
       "0 & y^{4} u_{2}^{4} & 0 & 0 & 0 \\\\\n",
       "0 & 0 & u_{1}^{2} u_{2}^{2} & 0 & 0 \\\\\n",
       "0 & 0 & 0 & x^{4} u_{1}^{4} & 0 \\\\\n",
       "0 & 0 & 0 & 0 & y^{4} u_{1}^{4}\n",
       "\\end{array}\\right)</script></html>"
      ],
      "text/plain": [
       "[ x^4*u2^4         0         0         0         0]\n",
       "[        0  y^4*u2^4         0         0         0]\n",
       "[        0         0 u1^2*u2^2         0         0]\n",
       "[        0         0         0  x^4*u1^4         0]\n",
       "[        0         0         0         0  y^4*u1^4]"
      ]
     },
     "execution_count": 98,
     "metadata": {},
     "output_type": "execute_result"
    }
   ],
   "source": [
    "M2.O(2, 2)"
   ]
  },
  {
   "cell_type": "markdown",
   "metadata": {},
   "source": [
    "### K-theoretic stable basis in rank 1\n",
    "\n",
    "The basis of K-theoretic stable envelopes is implemented in rank $1$ at all slopes."
   ]
  },
  {
   "cell_type": "markdown",
   "metadata": {},
   "source": [
    "#### Ring of symmetric functions\n",
    "\n",
    "Specifically, the equivariant K-group $K_{\\mathsf{T}}(\\mathrm{Hilb}(\\mathbb{C}^2))$ is isomorphic to the ring of symmetric functions after passing to the fraction field $\\mathbb{Q}(x,y) = \\mathrm{Frac} K_{\\mathsf{T}}(\\mathrm{pt})$.\n",
    "\n",
    "Every moduli of instantons has such a ring attached to it, accessible via `M.sym`. We continue to use our `M1` from earlier, disregarding the `u1` and `u2` variables in the underlying ring."
   ]
  },
  {
   "cell_type": "code",
   "execution_count": 102,
   "metadata": {},
   "outputs": [
    {
     "data": {
      "text/html": [
       "<html><script type=\"math/tex; mode=display\">\\newcommand{\\Bold}[1]{\\mathbf{#1}}\\verb|Symmetric|\\phantom{\\verb!x!}\\verb|Functions|\\phantom{\\verb!x!}\\verb|over|\\phantom{\\verb!x!}\\verb|Fraction|\\phantom{\\verb!x!}\\verb|Field|\\phantom{\\verb!x!}\\verb|of|\\phantom{\\verb!x!}\\verb|Multivariate|\\phantom{\\verb!x!}\\verb|Polynomial|\\phantom{\\verb!x!}\\verb|Ring|\\phantom{\\verb!x!}\\verb|in|\\phantom{\\verb!x!}\\verb|x,|\\phantom{\\verb!x!}\\verb|y,|\\phantom{\\verb!x!}\\verb|u1,|\\phantom{\\verb!x!}\\verb|u2|\\phantom{\\verb!x!}\\verb|over|\\phantom{\\verb!x!}\\verb|Integer|\\phantom{\\verb!x!}\\verb|Ring|</script></html>"
      ],
      "text/plain": [
       "Symmetric Functions over Fraction Field of Multivariate Polynomial Ring in x, y, u1, u2 over Integer Ring"
      ]
     },
     "execution_count": 102,
     "metadata": {},
     "output_type": "execute_result"
    }
   ],
   "source": [
    "M1.sym"
   ]
  },
  {
   "cell_type": "markdown",
   "metadata": {},
   "source": [
    "In Sage, rings of symmetric functions come with many natural bases: power sum, Schur, Jack, Macdonald, etc."
   ]
  },
  {
   "cell_type": "code",
   "execution_count": 104,
   "metadata": {},
   "outputs": [
    {
     "data": {
      "text/html": [
       "<html><script type=\"math/tex; mode=display\">\\newcommand{\\Bold}[1]{\\mathbf{#1}}\\verb|Macdonald|\\phantom{\\verb!x!}\\verb|polynomials|\\phantom{\\verb!x!}\\verb|with|\\phantom{\\verb!x!}\\verb|q=x^2|\\phantom{\\verb!x!}\\verb|and|\\phantom{\\verb!x!}\\verb|t=y^2|\\phantom{\\verb!x!}\\verb|over|\\phantom{\\verb!x!}\\verb|Fraction|\\phantom{\\verb!x!}\\verb|Field|\\phantom{\\verb!x!}\\verb|of|\\phantom{\\verb!x!}\\verb|Multivariate|\\phantom{\\verb!x!}\\verb|Polynomial|\\phantom{\\verb!x!}\\verb|Ring|\\phantom{\\verb!x!}\\verb|in|\\phantom{\\verb!x!}\\verb|x,|\\phantom{\\verb!x!}\\verb|y,|\\phantom{\\verb!x!}\\verb|u1,|\\phantom{\\verb!x!}\\verb|u2|\\phantom{\\verb!x!}\\verb|over|\\phantom{\\verb!x!}\\verb|Integer|\\phantom{\\verb!x!}\\verb|Ring|</script></html>"
      ],
      "text/plain": [
       "Macdonald polynomials with q=x^2 and t=y^2 over Fraction Field of Multivariate Polynomial Ring in x, y, u1, u2 over Integer Ring"
      ]
     },
     "execution_count": 104,
     "metadata": {},
     "output_type": "execute_result"
    }
   ],
   "source": [
    "mcd = M1.sym.macdonald(x, y)\n",
    "mcd"
   ]
  },
  {
   "cell_type": "markdown",
   "metadata": {},
   "source": [
    "Many of these bases have geometric meaning. In particular, the structure sheaf $\\mathcal{O}_\\lambda \\in K_{\\mathsf{T}}(\\mathrm{Hilb}(\\mathbb{C}^2))$ of the fixed point corresponding to the partition $\\lambda$ is exactly the Macdonald polynomial $\\tilde H_\\lambda$ (Haiman's normalization)."
   ]
  },
  {
   "cell_type": "code",
   "execution_count": 105,
   "metadata": {},
   "outputs": [
    {
     "data": {
      "text/html": [
       "<html><script type=\"math/tex; mode=display\">\\newcommand{\\Bold}[1]{\\mathbf{#1}}\\verb|Symmetric|\\phantom{\\verb!x!}\\verb|Functions|\\phantom{\\verb!x!}\\verb|over|\\phantom{\\verb!x!}\\verb|Fraction|\\phantom{\\verb!x!}\\verb|Field|\\phantom{\\verb!x!}\\verb|of|\\phantom{\\verb!x!}\\verb|Multivariate|\\phantom{\\verb!x!}\\verb|Polynomial|\\phantom{\\verb!x!}\\verb|Ring|\\phantom{\\verb!x!}\\verb|in|\\phantom{\\verb!x!}\\verb|x,|\\phantom{\\verb!x!}\\verb|y,|\\phantom{\\verb!x!}\\verb|u1,|\\phantom{\\verb!x!}\\verb|u2|\\phantom{\\verb!x!}\\verb|over|\\phantom{\\verb!x!}\\verb|Integer|\\phantom{\\verb!x!}\\verb|Ring|\\phantom{\\verb!x!}\\verb|in|\\phantom{\\verb!x!}\\verb|the|\\phantom{\\verb!x!}\\verb|Macdonald|\\phantom{\\verb!x!}\\verb|Ht|\\phantom{\\verb!x!}\\verb|with|\\phantom{\\verb!x!}\\verb|q=x^2|\\phantom{\\verb!x!}\\verb|and|\\phantom{\\verb!x!}\\verb|t=y^2|\\phantom{\\verb!x!}\\verb|basis|</script></html>"
      ],
      "text/plain": [
       "Symmetric Functions over Fraction Field of Multivariate Polynomial Ring in x, y, u1, u2 over Integer Ring in the Macdonald Ht with q=x^2 and t=y^2 basis"
      ]
     },
     "execution_count": 105,
     "metadata": {},
     "output_type": "execute_result"
    }
   ],
   "source": [
    "mcd_ht = mcd.Ht()\n",
    "mcd_ht"
   ]
  },
  {
   "cell_type": "markdown",
   "metadata": {},
   "source": [
    "#### Stable basis\n",
    "\n",
    "K-theoretic stable envelopes provide another set of bases for this ring of symmetric functions. They are defined with respect to the sub-torus $\\mathsf{A} = \\mathrm{ker} \\hbar \\subset \\mathsf{T}$ where $\\hbar = xy$ is the weight of the symplectic form. For us, $\\mathsf{A} = \\mathbb{C}^\\times$ generated by $x/y$.\n",
    "\n",
    "We take the attracting chamber $\\mathfrak{C} = \\{\\log x - \\log y > 0\\}$, and the polarization as given above.\n",
    "\n",
    "The command `M.stab(s)` returns the basis of stable envelopes at slope $s$."
   ]
  },
  {
   "cell_type": "code",
   "execution_count": 139,
   "metadata": {},
   "outputs": [
    {
     "data": {
      "text/html": [
       "<html><script type=\"math/tex; mode=display\">\\newcommand{\\Bold}[1]{\\mathbf{#1}}\\verb|Symmetric|\\phantom{\\verb!x!}\\verb|Functions|\\phantom{\\verb!x!}\\verb|over|\\phantom{\\verb!x!}\\verb|Fraction|\\phantom{\\verb!x!}\\verb|Field|\\phantom{\\verb!x!}\\verb|of|\\phantom{\\verb!x!}\\verb|Multivariate|\\phantom{\\verb!x!}\\verb|Polynomial|\\phantom{\\verb!x!}\\verb|Ring|\\phantom{\\verb!x!}\\verb|in|\\phantom{\\verb!x!}\\verb|x,|\\phantom{\\verb!x!}\\verb|y,|\\phantom{\\verb!x!}\\verb|u1,|\\phantom{\\verb!x!}\\verb|u2|\\phantom{\\verb!x!}\\verb|over|\\phantom{\\verb!x!}\\verb|Integer|\\phantom{\\verb!x!}\\verb|Ring|\\phantom{\\verb!x!}\\verb|in|\\phantom{\\verb!x!}\\verb|the|\\phantom{\\verb!x!}\\verb|Stable|\\phantom{\\verb!x!}\\verb|envelope|\\phantom{\\verb!x!}\\verb|in|\\phantom{\\verb!x!}\\verb|q=x^2,|\\phantom{\\verb!x!}\\verb|t=y^2|\\phantom{\\verb!x!}\\verb|with|\\phantom{\\verb!x!}\\verb|slope|\\phantom{\\verb!x!}\\verb|0|\\phantom{\\verb!x!}\\verb|basis|</script></html>"
      ],
      "text/plain": [
       "Symmetric Functions over Fraction Field of Multivariate Polynomial Ring in x, y, u1, u2 over Integer Ring in the Stable envelope in q=x^2, t=y^2 with slope 0 basis"
      ]
     },
     "execution_count": 139,
     "metadata": {},
     "output_type": "execute_result"
    }
   ],
   "source": [
    "stab0 = M1.stab(0)\n",
    "stab0"
   ]
  },
  {
   "cell_type": "markdown",
   "metadata": {},
   "source": [
    "The dependence on $s$ is locally constant, changing only at certain *walls* $w \\in \\mathbb{Q}$. Between two walls $w_1$ and $w_2$, stable envelopes are constant in $(w_1, w_2]$.\n",
    "\n",
    "It is known that for $\\mathrm{Hilb}(\\mathbb{C}^2, n)$, walls are precisely those rationals $a/b \\in \\mathbb{Q}$ where $|b|\\le n$ (for $a/b$ in reduced form). \n",
    "\n",
    "The command `M.walls(n)` returns such rationals in $[0,1)$ for instanton number $n$. Note that not all of them may be true walls, in the sense that stable envelopes may actually still be the same on either side."
   ]
  },
  {
   "cell_type": "code",
   "execution_count": 140,
   "metadata": {},
   "outputs": [
    {
     "data": {
      "text/html": [
       "<html><script type=\"math/tex; mode=display\">\\newcommand{\\Bold}[1]{\\mathbf{#1}}\\left[0, \\frac{1}{3}, \\frac{1}{2}, \\frac{2}{3}\\right]</script></html>"
      ],
      "text/plain": [
       "[0, 1/3, 1/2, 2/3]"
      ]
     },
     "execution_count": 140,
     "metadata": {},
     "output_type": "execute_result"
    }
   ],
   "source": [
    "M1.walls(3)"
   ]
  },
  {
   "cell_type": "markdown",
   "metadata": {},
   "source": [
    "The object `stab0` can now be treated like any other basis of symmetric functions."
   ]
  },
  {
   "cell_type": "code",
   "execution_count": 141,
   "metadata": {},
   "outputs": [
    {
     "data": {
      "text/html": [
       "<html><script type=\"math/tex; mode=display\">\\newcommand{\\Bold}[1]{\\mathbf{#1}}3 x^{2}Stab^{0}_{2,2} + Stab^{0}_{4,1}</script></html>"
      ],
      "text/plain": [
       "3*x^2*Stab^{0}[2, 2] + Stab^{0}[4, 1]"
      ]
     },
     "execution_count": 141,
     "metadata": {},
     "output_type": "execute_result"
    }
   ],
   "source": [
    "stab0[4,1] + 3*x*stab0[2,2]"
   ]
  },
  {
   "cell_type": "markdown",
   "metadata": {},
   "source": [
    "What is $\\mathrm{Stab}^0([2])$ in the power sum basis?"
   ]
  },
  {
   "cell_type": "code",
   "execution_count": 142,
   "metadata": {},
   "outputs": [
    {
     "data": {
      "text/html": [
       "<html><script type=\"math/tex; mode=display\">\\newcommand{\\Bold}[1]{\\mathbf{#1}}\\left(\\frac{-x^{2}}{-2 y^{4} + 4 y^{2} - 2}\\right)p_{1,1} + \\left(\\frac{x^{2}}{2 y^{4} - 2}\\right)p_{2}</script></html>"
      ],
      "text/plain": [
       "((-x^2)/(-2*y^4+4*y^2-2))*p[1, 1] + (x^2/(2*y^4-2))*p[2]"
      ]
     },
     "execution_count": 142,
     "metadata": {},
     "output_type": "execute_result"
    }
   ],
   "source": [
    "M1.sym.p()(stab0[2])"
   ]
  },
  {
   "cell_type": "markdown",
   "metadata": {},
   "source": [
    "#### Stable envelopes as matrices"
   ]
  },
  {
   "cell_type": "markdown",
   "metadata": {},
   "source": [
    "At slope $s=0^+$, K-theoretic stable envelopes correspond to plethystically-modified Schur functions\n",
    "\n",
    "$$ \\mathrm{Stab}(\\lambda) = s_\\lambda\\left[\\frac{X}{1 - y^{-1}}\\right]. $$\n",
    "\n",
    "This is also how they are computed in the code."
   ]
  },
  {
   "cell_type": "markdown",
   "metadata": {},
   "source": [
    "We can look at the change-of-basis matrix from stable to fixed point basis. These are upper/lower-triangular matrices with a specific normalization on diagonal entries."
   ]
  },
  {
   "cell_type": "code",
   "execution_count": 143,
   "metadata": {},
   "outputs": [
    {
     "data": {
      "text/html": [
       "<html><script type=\"math/tex; mode=display\">\\newcommand{\\Bold}[1]{\\mathbf{#1}}\\left(\\begin{array}{rrr}\n",
       "-\\frac{x^{4}}{{\\left(y^{2} + y + 1\\right)} {\\left(y^{2} - y + 1\\right)} {\\left(y^{2} + 1\\right)} {\\left(y + 1\\right)}^{3} {\\left(y - 1\\right)}^{3} y^{2}} & 0 & 0 \\\\\n",
       "-\\frac{{\\left(x y + 1\\right)} {\\left(x y - 1\\right)} x^{5}}{{\\left(y^{2} + x\\right)} {\\left(y^{2} - x\\right)} {\\left(y^{2} + y + 1\\right)} {\\left(y^{2} - y + 1\\right)} {\\left(y + 1\\right)}^{3} {\\left(y - 1\\right)}^{3} y} & \\frac{x^{5}}{{\\left(y^{2} + x\\right)} {\\left(y^{2} - x\\right)} {\\left(y + 1\\right)}^{2} {\\left(y - 1\\right)}^{2} y} & 0 \\\\\n",
       "\\frac{{\\left(x y^{2} + 1\\right)} {\\left(x y^{2} - 1\\right)} {\\left(x y + 1\\right)} {\\left(x y - 1\\right)} x^{6}}{{\\left(y^{2} + x\\right)} {\\left(y^{2} - x\\right)} {\\left(y^{2} + y + 1\\right)} {\\left(y^{2} - y + 1\\right)} {\\left(y^{2} + 1\\right)} {\\left(x + y\\right)} {\\left(x - y\\right)} {\\left(y + 1\\right)}^{3} {\\left(y - 1\\right)}^{3}} & -\\frac{{\\left(x^{2} + 1\\right)} {\\left(x y + 1\\right)} {\\left(x y - 1\\right)} x^{6}}{{\\left(x^{2} + y\\right)} {\\left(x^{2} - y\\right)} {\\left(y^{2} + x\\right)} {\\left(y^{2} - x\\right)} {\\left(y + 1\\right)}^{2} {\\left(y - 1\\right)}^{2}} & -\\frac{x^{6}}{{\\left(x^{2} + y\\right)} {\\left(x^{2} - y\\right)} {\\left(x + y\\right)} {\\left(x - y\\right)} {\\left(y + 1\\right)} {\\left(y - 1\\right)}}\n",
       "\\end{array}\\right)</script></html>"
      ],
      "text/plain": [
       "[                                                                           -x^4/((y^2 + y + 1)*(y^2 - y + 1)*(y^2 + 1)*(y + 1)^3*(y - 1)^3*y^2)                                                                                                                                               0                                                                                                                                               0]\n",
       "[                                               -(x*y + 1)*(x*y - 1)*x^5/((y^2 + x)*(y^2 - x)*(y^2 + y + 1)*(y^2 - y + 1)*(y + 1)^3*(y - 1)^3*y)                                                                                                 x^5/((y^2 + x)*(y^2 - x)*(y + 1)^2*(y - 1)^2*y)                                                                                                                                               0]\n",
       "[(x*y^2 + 1)*(x*y^2 - 1)*(x*y + 1)*(x*y - 1)*x^6/((y^2 + x)*(y^2 - x)*(y^2 + y + 1)*(y^2 - y + 1)*(y^2 + 1)*(x + y)*(x - y)*(y + 1)^3*(y - 1)^3)                                                -(x^2 + 1)*(x*y + 1)*(x*y - 1)*x^6/((x^2 + y)*(x^2 - y)*(y^2 + x)*(y^2 - x)*(y + 1)^2*(y - 1)^2)                                                                                      -x^6/((x^2 + y)*(x^2 - y)*(x + y)*(x - y)*(y + 1)*(y - 1))]"
      ]
     },
     "execution_count": 143,
     "metadata": {},
     "output_type": "execute_result"
    }
   ],
   "source": [
    "fps = M1.fixed_points(3)\n",
    "\n",
    "stab0_matrix = matrix([[mcd_ht(stab0[mu]).coefficient(lamb) for lamb in fps] for mu in fps])\n",
    "pretty(stab0_matrix)"
   ]
  },
  {
   "cell_type": "markdown",
   "metadata": {},
   "source": [
    "The actual stable envelope is a map $K_{\\mathsf{T}}(X^{\\mathsf{A}}) \\to K_{\\mathsf{T}}(X)$. The localization isomorphism $K_{\\mathsf{T}}(X) \\xrightarrow{\\sim} K_{\\mathsf{T}}(X^{\\mathsf{A}})$ is given by restriction up to some normalization factors, using which we can view stable envelopes as $|X^{\\mathsf{A}}|$-by-$|X^{\\mathsf{A}}|$ matrices.\n",
    "\n",
    "These normalization factors are encoded in `stab._localization_matrix(n)` where $n$ is instanton number."
   ]
  },
  {
   "cell_type": "code",
   "execution_count": 144,
   "metadata": {},
   "outputs": [
    {
     "data": {
      "text/html": [
       "<html><script type=\"math/tex; mode=display\">\\newcommand{\\Bold}[1]{\\mathbf{#1}}\\left(\\begin{array}{rrr}\n",
       "\\frac{{\\left(y^{2} + x\\right)} {\\left(y^{2} - x\\right)} {\\left(x + y\\right)} {\\left(x - y\\right)} {\\left(x + 1\\right)} {\\left(x - 1\\right)} x^{4}}{y^{8}} & 0 & 0 \\\\\n",
       "\\frac{{\\left(x y + 1\\right)} {\\left(x y - 1\\right)} {\\left(y^{2} + 1\\right)} {\\left(x + y\\right)} {\\left(x - y\\right)} {\\left(x + 1\\right)} {\\left(x - 1\\right)} x^{5}}{y^{7}} & \\frac{{\\left(x^{2} + y\\right)} {\\left(x^{2} - y\\right)} {\\left(x + 1\\right)}^{2} {\\left(x - 1\\right)}^{2} x^{3}}{y^{3}} & 0 \\\\\n",
       "-\\frac{{\\left(x y^{2} + 1\\right)} {\\left(x y^{2} - 1\\right)} {\\left(x y + 1\\right)} {\\left(x y - 1\\right)} {\\left(x + 1\\right)} {\\left(x - 1\\right)} x^{6}}{y^{6}} & -\\frac{{\\left(x^{2} + 1\\right)} {\\left(x y + 1\\right)} {\\left(x y - 1\\right)} {\\left(x + 1\\right)}^{2} {\\left(x - 1\\right)}^{2} x^{4}}{y^{2}} & -{\\left(x^{2} + x + 1\\right)} {\\left(x^{2} - x + 1\\right)} {\\left(x^{2} + 1\\right)} {\\left(x + 1\\right)}^{3} {\\left(x - 1\\right)}^{3}\n",
       "\\end{array}\\right)</script></html>"
      ],
      "text/plain": [
       "[          (y^2 + x)*(y^2 - x)*(x + y)*(x - y)*(x + 1)*(x - 1)*x^4/y^8                                                                     0                                                                     0]\n",
       "[(x*y + 1)*(x*y - 1)*(y^2 + 1)*(x + y)*(x - y)*(x + 1)*(x - 1)*x^5/y^7                       (x^2 + y)*(x^2 - y)*(x + 1)^2*(x - 1)^2*x^3/y^3                                                                     0]\n",
       "[ -(x*y^2 + 1)*(x*y^2 - 1)*(x*y + 1)*(x*y - 1)*(x + 1)*(x - 1)*x^6/y^6            -(x^2 + 1)*(x*y + 1)*(x*y - 1)*(x + 1)^2*(x - 1)^2*x^4/y^2            -(x^2 + x + 1)*(x^2 - x + 1)*(x^2 + 1)*(x + 1)^3*(x - 1)^3]"
      ]
     },
     "execution_count": 144,
     "metadata": {},
     "output_type": "execute_result"
    }
   ],
   "source": [
    "pretty( stab0_matrix * stab0._localization_matrix(3)^-1 )"
   ]
  },
  {
   "cell_type": "markdown",
   "metadata": {},
   "source": [
    "There is an internal method `stab._stab_matrix(n)` to do pretty much the same thing."
   ]
  },
  {
   "cell_type": "code",
   "execution_count": 145,
   "metadata": {},
   "outputs": [
    {
     "data": {
      "text/html": [
       "<html><script type=\"math/tex; mode=display\">\\newcommand{\\Bold}[1]{\\mathbf{#1}}\\mathrm{True}</script></html>"
      ],
      "text/plain": [
       "True"
      ]
     },
     "execution_count": 145,
     "metadata": {},
     "output_type": "execute_result"
    }
   ],
   "source": [
    "stab0._stab_matrix(3) == stab0_matrix * stab0._localization_matrix(3)^-1"
   ]
  },
  {
   "cell_type": "markdown",
   "metadata": {},
   "source": [
    "#### At non-zero slope\n",
    "\n",
    "Stable envelopes at all other slopes are computed by a Gram--Schmidt procedure starting from the slope-$0$ stable envelope matrix. This procedure recursively takes appropriate linear combinations of stable envelopes with those lower in the attracting order until the degree axiom for off-diagonal elements is satisfied."
   ]
  },
  {
   "cell_type": "code",
   "execution_count": 161,
   "metadata": {},
   "outputs": [
    {
     "data": {
      "text/html": [
       "<html><script type=\"math/tex; mode=display\">\\newcommand{\\Bold}[1]{\\mathbf{#1}}\\left[0, \\frac{1}{2}\\right]</script></html>"
      ],
      "text/plain": [
       "[0, 1/2]"
      ]
     },
     "execution_count": 161,
     "metadata": {},
     "output_type": "execute_result"
    }
   ],
   "source": [
    "M1.walls(2)"
   ]
  },
  {
   "cell_type": "code",
   "execution_count": 160,
   "metadata": {},
   "outputs": [
    {
     "data": {
      "text/html": [
       "<html><script type=\"math/tex; mode=display\">\\newcommand{\\Bold}[1]{\\mathbf{#1}}\\left(\\begin{array}{rr}\n",
       "-x^{5} y^{-3} + x^{3} y^{-1} + x^{3} y^{-3} - x y^{-1} & 0 \\\\\n",
       "x^{6} - x^{4} - x^{4} y^{-2} + x^{2} y^{-2} & x^{6} - x^{4} - x^{2} + 1\n",
       "\\end{array}\\right)</script></html>"
      ],
      "text/plain": [
       "[-x^5*y^-3 + x^3*y^-1 + x^3*y^-3 - x*y^-1                                        0]\n",
       "[         x^6 - x^4 - x^4*y^-2 + x^2*y^-2                      x^6 - x^4 - x^2 + 1]"
      ]
     },
     "execution_count": 160,
     "metadata": {},
     "output_type": "execute_result"
    }
   ],
   "source": [
    "M1.stab(0)._stab_matrix(2)"
   ]
  },
  {
   "cell_type": "markdown",
   "metadata": {},
   "source": [
    "We can see that $0$ is not actually a wall."
   ]
  },
  {
   "cell_type": "code",
   "execution_count": 164,
   "metadata": {},
   "outputs": [
    {
     "data": {
      "text/html": [
       "<html><script type=\"math/tex; mode=display\">\\newcommand{\\Bold}[1]{\\mathbf{#1}}\\left(\\begin{array}{rr}\n",
       "-x^{5} y^{-3} + x^{3} y^{-1} + x^{3} y^{-3} - x y^{-1} & 0 \\\\\n",
       "x^{6} - x^{4} - x^{4} y^{-2} + x^{2} y^{-2} & x^{6} - x^{4} - x^{2} + 1\n",
       "\\end{array}\\right)</script></html>"
      ],
      "text/plain": [
       "[-x^5*y^-3 + x^3*y^-1 + x^3*y^-3 - x*y^-1                                        0]\n",
       "[         x^6 - x^4 - x^4*y^-2 + x^2*y^-2                      x^6 - x^4 - x^2 + 1]"
      ]
     },
     "execution_count": 164,
     "metadata": {},
     "output_type": "execute_result"
    }
   ],
   "source": [
    "M1.stab(1/2)._stab_matrix(2)"
   ]
  },
  {
   "cell_type": "markdown",
   "metadata": {},
   "source": [
    "But $1/2$ is."
   ]
  },
  {
   "cell_type": "code",
   "execution_count": 163,
   "metadata": {},
   "outputs": [
    {
     "data": {
      "text/html": [
       "<html><script type=\"math/tex; mode=display\">\\newcommand{\\Bold}[1]{\\mathbf{#1}}\\left(\\begin{array}{rr}\n",
       "-x^{5} y^{-3} + x^{3} y^{-1} + x^{3} y^{-3} - x y^{-1} & 0 \\\\\n",
       "x^{8} y^{-2} - x^{6} y^{-2} - x^{6} y^{-4} + x^{4} y^{-4} & x^{6} - x^{4} - x^{2} + 1\n",
       "\\end{array}\\right)</script></html>"
      ],
      "text/plain": [
       "[ -x^5*y^-3 + x^3*y^-1 + x^3*y^-3 - x*y^-1                                         0]\n",
       "[x^8*y^-2 - x^6*y^-2 - x^6*y^-4 + x^4*y^-4                       x^6 - x^4 - x^2 + 1]"
      ]
     },
     "execution_count": 163,
     "metadata": {},
     "output_type": "execute_result"
    }
   ],
   "source": [
    "M1.stab(1/2+0.1)._stab_matrix(2)"
   ]
  }
 ],
 "metadata": {
  "kernelspec": {
   "display_name": "SageMath 9.0",
   "language": "sage",
   "name": "sagemath"
  },
  "language_info": {
   "codemirror_mode": {
    "name": "ipython",
    "version": 3
   },
   "file_extension": ".py",
   "mimetype": "text/x-python",
   "name": "python",
   "nbconvert_exporter": "python",
   "pygments_lexer": "ipython3",
   "version": "3.7.3"
  }
 },
 "nbformat": 4,
 "nbformat_minor": 2
}
