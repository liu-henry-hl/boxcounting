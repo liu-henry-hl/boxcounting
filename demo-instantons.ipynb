{
 "cells": [
  {
   "cell_type": "code",
   "execution_count": 1,
   "metadata": {},
   "outputs": [],
   "source": [
    "# Some global configuration for this workbook.\n",
    "reset()\n",
    "%display latex\n",
    "Partitions.options.latex=\"list\""
   ]
  },
  {
   "cell_type": "markdown",
   "metadata": {},
   "source": [
    "# Demo: instanton moduli space"
   ]
  },
  {
   "cell_type": "markdown",
   "metadata": {},
   "source": [
    "### General set-up"
   ]
  },
  {
   "cell_type": "code",
   "execution_count": 2,
   "metadata": {},
   "outputs": [],
   "source": [
    "load(\"setup.sage\")\n",
    "load(\"instantons.sage\")\n",
    "\n",
    "R.<x,y,u1,u2> = LaurentPolynomialRing(ZZ)\n",
    "\n",
    "# There are square roots involved, so square all variables.\n",
    "x, y = x^2, y^2"
   ]
  },
  {
   "cell_type": "markdown",
   "metadata": {},
   "source": [
    "### A rank-2 example\n",
    "Create a rank-2 instanton moduli with equivariant variables $x, y$ and evaluation parameters $(1,u)$"
   ]
  },
  {
   "cell_type": "code",
   "execution_count": 3,
   "metadata": {},
   "outputs": [
    {
     "data": {
      "text/html": [
       "<html><script type=\"math/tex; mode=display\">\\newcommand{\\Bold}[1]{\\mathbf{#1}}\\verb|Rank|\\phantom{\\verb!x!}\\verb|2|\\phantom{\\verb!x!}\\verb|instanton|\\phantom{\\verb!x!}\\verb|moduli|\\phantom{\\verb!x!}\\verb|space|\\phantom{\\verb!x!}\\verb|in|\\phantom{\\verb!x!}\\verb|x=x^2,|\\phantom{\\verb!x!}\\verb|y=y^2,|\\phantom{\\verb!x!}\\verb|u=(u1,|\\phantom{\\verb!x!}\\verb|u2)|</script></html>"
      ],
      "text/plain": [
       "Rank 2 instanton moduli space in x=x^2, y=y^2, u=(u1, u2)"
      ]
     },
     "execution_count": 3,
     "metadata": {},
     "output_type": "execute_result"
    }
   ],
   "source": [
    "M2 = Instantons(2, x, y, (u1,u2))\n",
    "M2"
   ]
  },
  {
   "cell_type": "markdown",
   "metadata": {},
   "source": [
    "Fixed points, tangent spaces, etc."
   ]
  },
  {
   "cell_type": "code",
   "execution_count": 4,
   "metadata": {},
   "outputs": [
    {
     "data": {
      "text/html": [
       "<html><script type=\"math/tex; mode=display\">\\newcommand{\\Bold}[1]{\\mathbf{#1}}\\left[[[], [1]], [[1], []]\\right]</script></html>"
      ],
      "text/plain": [
       "[([], [1]), ([1], [])]"
      ]
     },
     "execution_count": 4,
     "metadata": {},
     "output_type": "execute_result"
    }
   ],
   "source": [
    "M2.fixed_points(1)"
   ]
  },
  {
   "cell_type": "code",
   "execution_count": 5,
   "metadata": {},
   "outputs": [
    {
     "data": {
      "text/html": [
       "<html><script type=\"math/tex; mode=display\">\\newcommand{\\Bold}[1]{\\mathbf{#1}}x^{2} u_{1}^{-1} u_{2} + y^{2} u_{1}^{-1} u_{2} + u_{1}^{-1} u_{2} + x^{2} y^{-4} + 2 y^{-2} + 2 x^{-2} + x^{-4} y^{2} + x^{-2} y^{-2} u_{1} u_{2}^{-1} + x^{-2} y^{-4} u_{1} u_{2}^{-1} + x^{-4} y^{-2} u_{1} u_{2}^{-1}</script></html>"
      ],
      "text/plain": [
       "x^2*u1^-1*u2 + y^2*u1^-1*u2 + u1^-1*u2 + x^2*y^-4 + 2*y^-2 + 2*x^-2 + x^-4*y^2 + x^-2*y^-2*u1*u2^-1 + x^-2*y^-4*u1*u2^-1 + x^-4*y^-2*u1*u2^-1"
      ]
     },
     "execution_count": 5,
     "metadata": {},
     "output_type": "execute_result"
    }
   ],
   "source": [
    "p = PartitionTuple([[], [2,1]])\n",
    "M2.tangent_space(p)"
   ]
  },
  {
   "cell_type": "code",
   "execution_count": 6,
   "metadata": {},
   "outputs": [
    {
     "data": {
      "text/html": [
       "<html><script type=\"math/tex; mode=display\">\\newcommand{\\Bold}[1]{\\mathbf{#1}}x^{2} u_{1}^{-1} u_{2} + y^{2} u_{1}^{-1} u_{2} - x^{2} y^{-2} - 1 + u_{1}^{-1} u_{2} + 2 x^{-2} + x^{-4} y^{2} + x^{-2} y^{-2} + x^{-4}</script></html>"
      ],
      "text/plain": [
       "x^2*u1^-1*u2 + y^2*u1^-1*u2 - x^2*y^-2 - 1 + u1^-1*u2 + 2*x^-2 + x^-4*y^2 + x^-2*y^-2 + x^-4"
      ]
     },
     "execution_count": 6,
     "metadata": {},
     "output_type": "execute_result"
    }
   ],
   "source": [
    "M2.polarization(p)"
   ]
  },
  {
   "cell_type": "code",
   "execution_count": 7,
   "metadata": {},
   "outputs": [
    {
     "data": {
      "text/html": [
       "<html><script type=\"math/tex; mode=display\">\\newcommand{\\Bold}[1]{\\mathbf{#1}}x^{2} y^{-4} + 2 y^{-2} + x^{-2} y^{-2} u_{1} u_{2}^{-1} + x^{-2} y^{-4} u_{1} u_{2}^{-1} + x^{-4} y^{-2} u_{1} u_{2}^{-1}</script></html>"
      ],
      "text/plain": [
       "x^2*y^-4 + 2*y^-2 + x^-2*y^-2*u1*u2^-1 + x^-2*y^-4*u1*u2^-1 + x^-4*y^-2*u1*u2^-1"
      ]
     },
     "execution_count": 7,
     "metadata": {},
     "output_type": "execute_result"
    }
   ],
   "source": [
    "M2.attracting(M2.tangent_space(p))"
   ]
  },
  {
   "cell_type": "markdown",
   "metadata": {},
   "source": [
    "### K-theoretic stable basis (rank 1)"
   ]
  },
  {
   "cell_type": "code",
   "execution_count": 8,
   "metadata": {},
   "outputs": [
    {
     "data": {
      "text/html": [
       "<html><script type=\"math/tex; mode=display\">\\newcommand{\\Bold}[1]{\\mathbf{#1}}\\verb|Symmetric|\\phantom{\\verb!x!}\\verb|Functions|\\phantom{\\verb!x!}\\verb|over|\\phantom{\\verb!x!}\\verb|Fraction|\\phantom{\\verb!x!}\\verb|Field|\\phantom{\\verb!x!}\\verb|of|\\phantom{\\verb!x!}\\verb|Multivariate|\\phantom{\\verb!x!}\\verb|Polynomial|\\phantom{\\verb!x!}\\verb|Ring|\\phantom{\\verb!x!}\\verb|in|\\phantom{\\verb!x!}\\verb|x,|\\phantom{\\verb!x!}\\verb|y|\\phantom{\\verb!x!}\\verb|over|\\phantom{\\verb!x!}\\verb|Integer|\\phantom{\\verb!x!}\\verb|Ring|\\phantom{\\verb!x!}\\verb|in|\\phantom{\\verb!x!}\\verb|the|\\phantom{\\verb!x!}\\verb|Stable|\\phantom{\\verb!x!}\\verb|envelope|\\phantom{\\verb!x!}\\verb|in|\\phantom{\\verb!x!}\\verb|q=x^2,|\\phantom{\\verb!x!}\\verb|t=y^2|\\phantom{\\verb!x!}\\verb|with|\\phantom{\\verb!x!}\\verb|slope|\\phantom{\\verb!x!}\\verb|0|\\phantom{\\verb!x!}\\verb|basis|</script></html>"
      ],
      "text/plain": [
       "Symmetric Functions over Fraction Field of Multivariate Polynomial Ring in x, y over Integer Ring in the Stable envelope in q=x^2, t=y^2 with slope 0 basis"
      ]
     },
     "execution_count": 8,
     "metadata": {},
     "output_type": "execute_result"
    }
   ],
   "source": [
    "R.<x,y> = LaurentPolynomialRing(ZZ)\n",
    "x, y = x^2, y^2\n",
    "M1 = Instantons(1, x, y)\n",
    "\n",
    "# At slope 0\n",
    "stab0 = M1.stab(0)\n",
    "stab0"
   ]
  },
  {
   "cell_type": "code",
   "execution_count": 9,
   "metadata": {},
   "outputs": [
    {
     "data": {
      "text/html": [
       "<html><script type=\"math/tex; mode=display\">\\newcommand{\\Bold}[1]{\\mathbf{#1}}\\verb|Symmetric|\\phantom{\\verb!x!}\\verb|Functions|\\phantom{\\verb!x!}\\verb|over|\\phantom{\\verb!x!}\\verb|Fraction|\\phantom{\\verb!x!}\\verb|Field|\\phantom{\\verb!x!}\\verb|of|\\phantom{\\verb!x!}\\verb|Multivariate|\\phantom{\\verb!x!}\\verb|Polynomial|\\phantom{\\verb!x!}\\verb|Ring|\\phantom{\\verb!x!}\\verb|in|\\phantom{\\verb!x!}\\verb|x,|\\phantom{\\verb!x!}\\verb|y|\\phantom{\\verb!x!}\\verb|over|\\phantom{\\verb!x!}\\verb|Integer|\\phantom{\\verb!x!}\\verb|Ring|</script></html>"
      ],
      "text/plain": [
       "Symmetric Functions over Fraction Field of Multivariate Polynomial Ring in x, y over Integer Ring"
      ]
     },
     "execution_count": 9,
     "metadata": {},
     "output_type": "execute_result"
    }
   ],
   "source": [
    "# Easy access to the associated ring of symmetric functions\n",
    "Sym = M1.sym\n",
    "Sym"
   ]
  },
  {
   "cell_type": "markdown",
   "metadata": {},
   "source": [
    "Expanding a stable envelope in the Macdonald (fixed point) basis."
   ]
  },
  {
   "cell_type": "code",
   "execution_count": 10,
   "metadata": {},
   "outputs": [
    {
     "data": {
      "text/html": [
       "<html><script type=\"math/tex; mode=display\">\\newcommand{\\Bold}[1]{\\mathbf{#1}}\\left(\\begin{array}{rrr}\n",
       "-\\frac{x^{4}}{{\\left(y^{2} + y + 1\\right)} {\\left(y^{2} - y + 1\\right)} {\\left(y^{2} + 1\\right)} {\\left(y + 1\\right)}^{3} {\\left(y - 1\\right)}^{3} y^{2}} & 0 & 0 \\\\\n",
       "-\\frac{{\\left(x y + 1\\right)} {\\left(x y - 1\\right)} x^{5}}{{\\left(y^{2} + x\\right)} {\\left(y^{2} - x\\right)} {\\left(y^{2} + y + 1\\right)} {\\left(y^{2} - y + 1\\right)} {\\left(y + 1\\right)}^{3} {\\left(y - 1\\right)}^{3} y} & \\frac{x^{5}}{{\\left(y^{2} + x\\right)} {\\left(y^{2} - x\\right)} {\\left(y + 1\\right)}^{2} {\\left(y - 1\\right)}^{2} y} & 0 \\\\\n",
       "\\frac{{\\left(x y^{2} + 1\\right)} {\\left(x y^{2} - 1\\right)} {\\left(x y + 1\\right)} {\\left(x y - 1\\right)} x^{6}}{{\\left(y^{2} + x\\right)} {\\left(y^{2} - x\\right)} {\\left(y^{2} + y + 1\\right)} {\\left(y^{2} - y + 1\\right)} {\\left(y^{2} + 1\\right)} {\\left(x + y\\right)} {\\left(x - y\\right)} {\\left(y + 1\\right)}^{3} {\\left(y - 1\\right)}^{3}} & -\\frac{{\\left(x^{2} + 1\\right)} {\\left(x y + 1\\right)} {\\left(x y - 1\\right)} x^{6}}{{\\left(x^{2} + y\\right)} {\\left(x^{2} - y\\right)} {\\left(y^{2} + x\\right)} {\\left(y^{2} - x\\right)} {\\left(y + 1\\right)}^{2} {\\left(y - 1\\right)}^{2}} & -\\frac{x^{6}}{{\\left(x^{2} + y\\right)} {\\left(x^{2} - y\\right)} {\\left(x + y\\right)} {\\left(x - y\\right)} {\\left(y + 1\\right)} {\\left(y - 1\\right)}}\n",
       "\\end{array}\\right)</script></html>"
      ],
      "text/plain": [
       "[                                                                           -x^4/((y^2 + y + 1)*(y^2 - y + 1)*(y^2 + 1)*(y + 1)^3*(y - 1)^3*y^2)                                                                                                                                               0                                                                                                                                               0]\n",
       "[                                               -(x*y + 1)*(x*y - 1)*x^5/((y^2 + x)*(y^2 - x)*(y^2 + y + 1)*(y^2 - y + 1)*(y + 1)^3*(y - 1)^3*y)                                                                                                 x^5/((y^2 + x)*(y^2 - x)*(y + 1)^2*(y - 1)^2*y)                                                                                                                                               0]\n",
       "[(x*y^2 + 1)*(x*y^2 - 1)*(x*y + 1)*(x*y - 1)*x^6/((y^2 + x)*(y^2 - x)*(y^2 + y + 1)*(y^2 - y + 1)*(y^2 + 1)*(x + y)*(x - y)*(y + 1)^3*(y - 1)^3)                                                -(x^2 + 1)*(x*y + 1)*(x*y - 1)*x^6/((x^2 + y)*(x^2 - y)*(y^2 + x)*(y^2 - x)*(y + 1)^2*(y - 1)^2)                                                                                      -x^6/((x^2 + y)*(x^2 - y)*(x + y)*(x - y)*(y + 1)*(y - 1))]"
      ]
     },
     "execution_count": 10,
     "metadata": {},
     "output_type": "execute_result"
    }
   ],
   "source": [
    "mcd = Sym.macdonald(x, y)\n",
    "Ht = mcd.Ht()\n",
    "\n",
    "fps = M1.fixed_points(3)\n",
    "\n",
    "stab0_matrix = matrix([[Ht(stab0[mu]).coefficient(lamb) for lamb in fps] for mu in fps])\n",
    "pretty(stab0_matrix)"
   ]
  },
  {
   "cell_type": "markdown",
   "metadata": {},
   "source": [
    "We may normalize by the localization factors $S^\\bullet(T_\\mu \\mathrm{Hilb})$ to get the stable envelope as an actual map $K_T(X^A) \\to K_T(X)$."
   ]
  },
  {
   "cell_type": "code",
   "execution_count": 11,
   "metadata": {},
   "outputs": [
    {
     "data": {
      "text/html": [
       "<html><script type=\"math/tex; mode=display\">\\newcommand{\\Bold}[1]{\\mathbf{#1}}\\left(\\begin{array}{rrr}\n",
       "\\frac{{\\left(y^{2} + x\\right)} {\\left(y^{2} - x\\right)} {\\left(x + y\\right)} {\\left(x - y\\right)} {\\left(x + 1\\right)} {\\left(x - 1\\right)} x^{4}}{y^{8}} & 0 & 0 \\\\\n",
       "\\frac{{\\left(x y + 1\\right)} {\\left(x y - 1\\right)} {\\left(y^{2} + 1\\right)} {\\left(x + y\\right)} {\\left(x - y\\right)} {\\left(x + 1\\right)} {\\left(x - 1\\right)} x^{5}}{y^{7}} & \\frac{{\\left(x^{2} + y\\right)} {\\left(x^{2} - y\\right)} {\\left(x + 1\\right)}^{2} {\\left(x - 1\\right)}^{2} x^{3}}{y^{3}} & 0 \\\\\n",
       "-\\frac{{\\left(x y^{2} + 1\\right)} {\\left(x y^{2} - 1\\right)} {\\left(x y + 1\\right)} {\\left(x y - 1\\right)} {\\left(x + 1\\right)} {\\left(x - 1\\right)} x^{6}}{y^{6}} & -\\frac{{\\left(x^{2} + 1\\right)} {\\left(x y + 1\\right)} {\\left(x y - 1\\right)} {\\left(x + 1\\right)}^{2} {\\left(x - 1\\right)}^{2} x^{4}}{y^{2}} & -{\\left(x^{2} + x + 1\\right)} {\\left(x^{2} - x + 1\\right)} {\\left(x^{2} + 1\\right)} {\\left(x + 1\\right)}^{3} {\\left(x - 1\\right)}^{3}\n",
       "\\end{array}\\right)</script></html>"
      ],
      "text/plain": [
       "[          (y^2 + x)*(y^2 - x)*(x + y)*(x - y)*(x + 1)*(x - 1)*x^4/y^8                                                                     0                                                                     0]\n",
       "[(x*y + 1)*(x*y - 1)*(y^2 + 1)*(x + y)*(x - y)*(x + 1)*(x - 1)*x^5/y^7                       (x^2 + y)*(x^2 - y)*(x + 1)^2*(x - 1)^2*x^3/y^3                                                                     0]\n",
       "[ -(x*y^2 + 1)*(x*y^2 - 1)*(x*y + 1)*(x*y - 1)*(x + 1)*(x - 1)*x^6/y^6            -(x^2 + 1)*(x*y + 1)*(x*y - 1)*(x + 1)^2*(x - 1)^2*x^4/y^2            -(x^2 + x + 1)*(x^2 - x + 1)*(x^2 + 1)*(x + 1)^3*(x - 1)^3]"
      ]
     },
     "execution_count": 11,
     "metadata": {},
     "output_type": "execute_result"
    }
   ],
   "source": [
    "pretty( stab0_matrix * stab0._localization_matrix(3)^-1 )"
   ]
  },
  {
   "cell_type": "code",
   "execution_count": 12,
   "metadata": {},
   "outputs": [
    {
     "data": {
      "text/html": [
       "<html><script type=\"math/tex; mode=display\">\\newcommand{\\Bold}[1]{\\mathbf{#1}}\\left(\\begin{array}{rrr}\n",
       "\\frac{{\\left(y^{2} + x\\right)} {\\left(y^{2} - x\\right)} {\\left(x + y\\right)} {\\left(x - y\\right)} {\\left(x + 1\\right)} {\\left(x - 1\\right)} x^{4}}{y^{8}} & 0 & 0 \\\\\n",
       "\\frac{{\\left(x y + 1\\right)} {\\left(x y - 1\\right)} {\\left(y^{2} + 1\\right)} {\\left(x + y\\right)} {\\left(x - y\\right)} {\\left(x + 1\\right)} {\\left(x - 1\\right)} x^{5}}{y^{7}} & \\frac{{\\left(x^{2} + y\\right)} {\\left(x^{2} - y\\right)} {\\left(x + 1\\right)}^{2} {\\left(x - 1\\right)}^{2} x^{3}}{y^{3}} & 0 \\\\\n",
       "-\\frac{{\\left(x y^{2} + 1\\right)} {\\left(x y^{2} - 1\\right)} {\\left(x y + 1\\right)} {\\left(x y - 1\\right)} {\\left(x + 1\\right)} {\\left(x - 1\\right)} x^{6}}{y^{6}} & -\\frac{{\\left(x^{2} + 1\\right)} {\\left(x y + 1\\right)} {\\left(x y - 1\\right)} {\\left(x + 1\\right)}^{2} {\\left(x - 1\\right)}^{2} x^{4}}{y^{2}} & -{\\left(x^{2} + x + 1\\right)} {\\left(x^{2} - x + 1\\right)} {\\left(x^{2} + 1\\right)} {\\left(x + 1\\right)}^{3} {\\left(x - 1\\right)}^{3}\n",
       "\\end{array}\\right)</script></html>"
      ],
      "text/plain": [
       "[          (y^2 + x)*(y^2 - x)*(x + y)*(x - y)*(x + 1)*(x - 1)*x^4/y^8                                                                     0                                                                     0]\n",
       "[(x*y + 1)*(x*y - 1)*(y^2 + 1)*(x + y)*(x - y)*(x + 1)*(x - 1)*x^5/y^7                       (x^2 + y)*(x^2 - y)*(x + 1)^2*(x - 1)^2*x^3/y^3                                                                     0]\n",
       "[ -(x*y^2 + 1)*(x*y^2 - 1)*(x*y + 1)*(x*y - 1)*(x + 1)*(x - 1)*x^6/y^6            -(x^2 + 1)*(x*y + 1)*(x*y - 1)*(x + 1)^2*(x - 1)^2*x^4/y^2            -(x^2 + x + 1)*(x^2 - x + 1)*(x^2 + 1)*(x + 1)^3*(x - 1)^3]"
      ]
     },
     "execution_count": 12,
     "metadata": {},
     "output_type": "execute_result"
    }
   ],
   "source": [
    "# An internal method to do the same thing\n",
    "pretty( stab0._stab_matrix(3) )"
   ]
  },
  {
   "cell_type": "markdown",
   "metadata": {},
   "source": [
    "At slope $1/2$:"
   ]
  },
  {
   "cell_type": "code",
   "execution_count": 13,
   "metadata": {},
   "outputs": [
    {
     "data": {
      "text/html": [
       "<html><script type=\"math/tex; mode=display\">\\newcommand{\\Bold}[1]{\\mathbf{#1}}\\left(\\begin{array}{rrr}\n",
       "x^{8} y^{-4} - x^{6} y^{-2} - x^{10} y^{-8} + x^{8} y^{-6} - x^{6} y^{-4} + x^{4} y^{-2} + x^{8} y^{-8} - x^{6} y^{-6} & 0 & 0 \\\\\n",
       "x^{13} y^{-7} - x^{9} y^{-3} - x^{11} y^{-7} + x^{7} y^{-3} - x^{11} y^{-9} + x^{7} y^{-5} + x^{9} y^{-9} - x^{5} y^{-5} & x^{11} y^{-3} - 2 x^{9} y^{-3} - x^{7} y^{-1} + x^{7} y^{-3} + 2 x^{5} y^{-1} - x^{3} y^{-1} & 0 \\\\\n",
       "-x^{14} y^{-2} - x^{14} y^{-4} + 2 x^{12} y^{-2} + 2 x^{12} y^{-4} - x^{10} y^{-2} + x^{14} y^{-8} + x^{12} y^{-6} - 2 x^{10} y^{-4} - x^{12} y^{-8} - x^{10} y^{-6} + x^{8} y^{-4} - x^{12} y^{-10} + x^{10} y^{-10} & -x^{14} y^{-2} - x^{12} + 2 x^{12} y^{-2} + 2 x^{10} + x^{12} y^{-4} - x^{8} - 2 x^{10} y^{-4} - 2 x^{8} y^{-2} + x^{8} y^{-4} + x^{6} y^{-2} & -x^{12} + x^{10} + x^{8} - x^{4} - x^{2} + 1\n",
       "\\end{array}\\right)</script></html>"
      ],
      "text/plain": [
       "[                                                                           x^8*y^-4 - x^6*y^-2 - x^10*y^-8 + x^8*y^-6 - x^6*y^-4 + x^4*y^-2 + x^8*y^-8 - x^6*y^-6                                                                                                                                                                 0                                                                                                                                                                 0]\n",
       "[                                                                         x^13*y^-7 - x^9*y^-3 - x^11*y^-7 + x^7*y^-3 - x^11*y^-9 + x^7*y^-5 + x^9*y^-9 - x^5*y^-5                                                                                              x^11*y^-3 - 2*x^9*y^-3 - x^7*y^-1 + x^7*y^-3 + 2*x^5*y^-1 - x^3*y^-1                                                                                                                                                                 0]\n",
       "[-x^14*y^-2 - x^14*y^-4 + 2*x^12*y^-2 + 2*x^12*y^-4 - x^10*y^-2 + x^14*y^-8 + x^12*y^-6 - 2*x^10*y^-4 - x^12*y^-8 - x^10*y^-6 + x^8*y^-4 - x^12*y^-10 + x^10*y^-10                                                       -x^14*y^-2 - x^12 + 2*x^12*y^-2 + 2*x^10 + x^12*y^-4 - x^8 - 2*x^10*y^-4 - 2*x^8*y^-2 + x^8*y^-4 + x^6*y^-2                                                                                                                                -x^12 + x^10 + x^8 - x^4 - x^2 + 1]"
      ]
     },
     "execution_count": 13,
     "metadata": {},
     "output_type": "execute_result"
    }
   ],
   "source": [
    "M1.stab(1/2)._stab_matrix(3)"
   ]
  },
  {
   "cell_type": "code",
   "execution_count": null,
   "metadata": {},
   "outputs": [],
   "source": []
  }
 ],
 "metadata": {
  "kernelspec": {
   "display_name": "SageMath 9.0",
   "language": "sage",
   "name": "sagemath"
  },
  "language_info": {
   "codemirror_mode": {
    "name": "ipython",
    "version": 3
   },
   "file_extension": ".py",
   "mimetype": "text/x-python",
   "name": "python",
   "nbconvert_exporter": "python",
   "pygments_lexer": "ipython3",
   "version": "3.7.3"
  }
 },
 "nbformat": 4,
 "nbformat_minor": 2
}
